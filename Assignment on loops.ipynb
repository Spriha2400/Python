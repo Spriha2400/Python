{
 "cells": [
  {
   "cell_type": "markdown",
   "id": "d9dc3be6",
   "metadata": {},
   "source": [
    "# Loop Programs"
   ]
  },
  {
   "cell_type": "code",
   "execution_count": 1,
   "id": "3cafa342",
   "metadata": {},
   "outputs": [
    {
     "name": "stdout",
     "output_type": "stream",
     "text": [
      "Enter the number r: 10\n",
      "10 X 0 =0 \n",
      "\n",
      "10 X 1 =10 \n",
      "\n",
      "10 X 2 =20 \n",
      "\n",
      "10 X 3 =30 \n",
      "\n",
      "10 X 4 =40 \n",
      "\n",
      "10 X 5 =50 \n",
      "\n",
      "10 X 6 =60 \n",
      "\n",
      "10 X 7 =70 \n",
      "\n",
      "10 X 8 =80 \n",
      "\n",
      "10 X 9 =90 \n",
      "\n",
      "10 X 10 =100 \n",
      "\n"
     ]
    }
   ],
   "source": [
    "i=0\n",
    "number=int(input(\"Enter the number r: \"))\n",
    "while i<=10:\n",
    "    print(\"%d X %d =%d \\n\"%(number,i,number*i))\n",
    "    i=i+1\n",
    " "
   ]
  },
  {
   "cell_type": "code",
   "execution_count": 2,
   "id": "beed14d4",
   "metadata": {},
   "outputs": [
    {
     "name": "stdout",
     "output_type": "stream",
     "text": [
      "1\n",
      "2\n",
      "3\n",
      "4\n",
      "5\n",
      "the while loop exhausted\n"
     ]
    }
   ],
   "source": [
    "k=1\n",
    "while k<=5:\n",
    "    print(k)\n",
    "    k=k+1\n",
    "else:\n",
    "    print(\"the while loop exhausted\")"
   ]
  },
  {
   "cell_type": "code",
   "execution_count": 3,
   "id": "b1fd59b0",
   "metadata": {},
   "outputs": [
    {
     "name": "stdout",
     "output_type": "stream",
     "text": [
      "1\n",
      "2\n"
     ]
    }
   ],
   "source": [
    "k=1\n",
    "while k<=5:\n",
    "    print(k)\n",
    "    k=k+1\n",
    "    if(k==3):\n",
    "        break\n",
    "else:\n",
    "    print(\"The while loop exhausted\")"
   ]
  },
  {
   "cell_type": "code",
   "execution_count": 5,
   "id": "727e6f1b",
   "metadata": {},
   "outputs": [
    {
     "name": "stdout",
     "output_type": "stream",
     "text": [
      "Enter the terms10\n",
      "fibonacci sequence:\n",
      "0 1 1 2 3 5 8 13 21 34 "
     ]
    }
   ],
   "source": [
    "terms=int(input(\"Enter the terms\"))\n",
    "a=0\n",
    "b=1\n",
    "count=0\n",
    "if(terms<=0):\n",
    "    print(\"Fibbonacci sequence upto\",limit,\":\")\n",
    "    print(a)\n",
    "else:\n",
    "    print(\"fibonacci sequence:\")\n",
    "    while(count<terms):\n",
    "        print(a,end=' ')\n",
    "        c=a+b\n",
    "        a=b\n",
    "        b=c\n",
    "        count +=1"
   ]
  },
  {
   "cell_type": "code",
   "execution_count": 6,
   "id": "7260c3b5",
   "metadata": {},
   "outputs": [
    {
     "name": "stdout",
     "output_type": "stream",
     "text": [
      "enter salary:99000\n",
      "Gross salary: 200970.0\n"
     ]
    }
   ],
   "source": [
    "bs=int(input(\"enter salary:\"))\n",
    "if(bs<1500):\n",
    "    hra=bs*10/100\n",
    "    da=bs*90/100 \n",
    "elif(bs>=1500):\n",
    "        hra=bs*5/100\n",
    "        da=bs*98/100\n",
    "else:\n",
    "    print(\"invalid data\")\n",
    "gs=bs+hra+da\n",
    "print(\"Gross salary:\",gs)\n",
    "        "
   ]
  },
  {
   "cell_type": "code",
   "execution_count": 7,
   "id": "b07b6da3",
   "metadata": {},
   "outputs": [
    {
     "name": "stdout",
     "output_type": "stream",
     "text": [
      "Enter a number:-34\n",
      "No.is -ve\n"
     ]
    }
   ],
   "source": [
    "num=int(input(\"Enter a number:\"))\n",
    "if(num>0):\n",
    "    print(\"No is +ve\")\n",
    "elif(num==0):\n",
    "    print(\"No. is zero\")\n",
    "else:\n",
    "    print(\"No.is -ve\")"
   ]
  },
  {
   "cell_type": "code",
   "execution_count": 8,
   "id": "c42a5ccd",
   "metadata": {},
   "outputs": [
    {
     "name": "stdout",
     "output_type": "stream",
     "text": [
      "enter a no:33\n",
      "+ve with no 0 value\n"
     ]
    }
   ],
   "source": [
    "num=int(input(\"enter a no:\"))\n",
    "if(num>=0):\n",
    "    if(num==0):\n",
    "        print(\"+ve with value 0\")\n",
    "    else:\n",
    "        print(\"+ve with no 0 value\")\n",
    "else:\n",
    "    print(\"-ve no\")"
   ]
  },
  {
   "cell_type": "code",
   "execution_count": 10,
   "id": "5114500e",
   "metadata": {},
   "outputs": [
    {
     "name": "stdout",
     "output_type": "stream",
     "text": [
      "enter percentage:90\n",
      "1st division\n"
     ]
    }
   ],
   "source": [
    "per=int(input(\"enter percentage:\"))\n",
    "if(per>=60):\n",
    "    print(\"1st division\")\n",
    "elif(per>=50):\n",
    "    print(\"2nd division\")\n",
    "elif(per>=40):\n",
    "    print(\"3rd division\")\n",
    "else:\n",
    "    print(\"Fail\")"
   ]
  },
  {
   "cell_type": "code",
   "execution_count": 11,
   "id": "699024f8",
   "metadata": {},
   "outputs": [
    {
     "name": "stdout",
     "output_type": "stream",
     "text": [
      "Larger is b\n"
     ]
    }
   ],
   "source": [
    "a=20.07\n",
    "b=700\n",
    "c=99.0\n",
    "if(a>=b)and(a>=c):\n",
    "    print(\"larger is a\")\n",
    "elif(b>=c)and(b>=a):\n",
    "    print(\"Larger is b\")\n",
    "else:\n",
    "    print(\"Larger is c\")"
   ]
  },
  {
   "cell_type": "code",
   "execution_count": 12,
   "id": "d7ab563b",
   "metadata": {},
   "outputs": [
    {
     "name": "stdout",
     "output_type": "stream",
     "text": [
      "0\n",
      "3\n",
      "6\n",
      "9\n"
     ]
    }
   ],
   "source": [
    "n=0\n",
    "while(n<=9):\n",
    "    print(n)\n",
    "    n=n+3"
   ]
  }
 ],
 "metadata": {
  "kernelspec": {
   "display_name": "Python 3",
   "language": "python",
   "name": "python3"
  },
  "language_info": {
   "codemirror_mode": {
    "name": "ipython",
    "version": 3
   },
   "file_extension": ".py",
   "mimetype": "text/x-python",
   "name": "python",
   "nbconvert_exporter": "python",
   "pygments_lexer": "ipython3",
   "version": "3.8.8"
  }
 },
 "nbformat": 4,
 "nbformat_minor": 5
}
