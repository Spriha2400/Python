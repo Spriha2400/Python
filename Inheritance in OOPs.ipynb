{
 "cells": [
  {
   "cell_type": "code",
   "execution_count": 1,
   "id": "70712807",
   "metadata": {},
   "outputs": [
    {
     "name": "stdout",
     "output_type": "stream",
     "text": [
      "This is an Employee\n",
      "The language is Python\n"
     ]
    }
   ],
   "source": [
    "#Example of Inheritance\n",
    "class Employee:\n",
    "    company=\"Google\"          #This is the base class or parent class\n",
    "    \n",
    "    def showDetails(self):\n",
    "        print(\"This is an Employee\")\n",
    "        \n",
    "class Programmer(Employee):\n",
    "    language=\"Python\"\n",
    "                                  #This is the derived class or child class\n",
    "    def getLanguage(self):\n",
    "        print(f\"The language is {self.language}\")\n",
    "            \n",
    "e=Employee()      #object of parent class\n",
    "e.showDetails()\n",
    "p=Programmer()    #object of child class\n",
    "p.getLanguage()"
   ]
  },
  {
   "cell_type": "code",
   "execution_count": 3,
   "id": "2394027f",
   "metadata": {},
   "outputs": [
    {
     "name": "stdout",
     "output_type": "stream",
     "text": [
      "This is an Employee\n",
      "The language is Python\n",
      "Google\n",
      "This is an Employee\n"
     ]
    }
   ],
   "source": [
    "#If we want to print attributes of Parent class by using  the object of child class.\n",
    "class Employee:\n",
    "    company=\"Google\"         \n",
    "    \n",
    "    def showDetails(self):\n",
    "        print(\"This is an Employee\")\n",
    "        \n",
    "class Programmer(Employee):\n",
    "    language=\"Python\"\n",
    "                                  \n",
    "    def getLanguage(self):\n",
    "        print(f\"The language is {self.language}\")\n",
    "            \n",
    "e=Employee()      \n",
    "e.showDetails()\n",
    "p=Programmer() \n",
    "p.getLanguage()\n",
    "print(p.company)   #All the attributes of parent class now stored in the child class .\n",
    "p.showDetails()"
   ]
  },
  {
   "cell_type": "code",
   "execution_count": 4,
   "id": "60c755c0",
   "metadata": {},
   "outputs": [
    {
     "name": "stdout",
     "output_type": "stream",
     "text": [
      "This is an Employee\n",
      "This is a programmer\n"
     ]
    }
   ],
   "source": [
    "#If we have same function in both parent class as well as child class .\n",
    "class Employee:\n",
    "    company=\"Google\"         \n",
    "    \n",
    "    def showDetails(self):\n",
    "        print(\"This is an Employee\")\n",
    "        \n",
    "class Programmer(Employee):\n",
    "    language=\"Python\"\n",
    "                                  \n",
    "    def getLanguage(self):\n",
    "        print(f\"The language is {self.language}\")\n",
    "        \n",
    "    def showDetails(self):\n",
    "        print(\"This is a programmer\")    \n",
    "            \n",
    "e=Employee()      \n",
    "e.showDetails()\n",
    "p=Programmer() \n",
    "# if we have same function or attributes in both of the class by using the object of child class then \n",
    "#it child class overriding the parent class .\n",
    "p.showDetails() "
   ]
  },
  {
   "cell_type": "code",
   "execution_count": 6,
   "id": "57d366e4",
   "metadata": {},
   "outputs": [
    {
     "name": "stdout",
     "output_type": "stream",
     "text": [
      "This is an Employee\n",
      "This is an Employee\n",
      "Google\n"
     ]
    }
   ],
   "source": [
    "#Types of Inheritance\n",
    "#1) Single Inheritance :-when child class inherits only a single parent class.\n",
    "#Example\n",
    "class Employee:\n",
    "    company=\"Google\"         \n",
    "    \n",
    "    def showDetails(self):\n",
    "        print(\"This is an Employee\")\n",
    "        \n",
    "class Programmer(Employee):\n",
    "    language=\"Python\"\n",
    "                                  \n",
    "    def getLanguage(self):\n",
    "        print(f\"The language is {self.language}\")\n",
    "            \n",
    "e=Employee()      \n",
    "e.showDetails()\n",
    "p=Programmer() \n",
    "p.showDetails()\n",
    "print(p.company)"
   ]
  },
  {
   "cell_type": "code",
   "execution_count": 11,
   "id": "9993b082",
   "metadata": {},
   "outputs": [
    {
     "name": "stdout",
     "output_type": "stream",
     "text": [
      "Rohit\n",
      "1\n",
      "120\n",
      "Visa\n"
     ]
    }
   ],
   "source": [
    "#2) Multiple Inheritance :-when child class inherits from more than one parent class.\n",
    "#Example\n",
    "class Employee:                 #Parent1\n",
    "    company=\"Visa\"\n",
    "    eCode=120\n",
    "class Freelancer:               #Parent2    \n",
    "    company=\"Fiverr\"\n",
    "    level=0\n",
    "    \n",
    "    def upgradeLevel(self):\n",
    "        self.level=self.level+1\n",
    "        \n",
    "class Programmer(Employee,Freelancer):     #Child class inherits parent1 & Parent2\n",
    "    name=\"Rohit\"\n",
    "#we can access all the attributes of Employee & Freelancer by child object    \n",
    "p=Programmer()\n",
    "p.upgradeLevel()\n",
    "print(p.name)\n",
    "print(p.level)\n",
    "print(p.eCode)\n",
    "print(p.company)    #It prints the parent1 company"
   ]
  },
  {
   "cell_type": "code",
   "execution_count": 19,
   "id": "5b9eb88f",
   "metadata": {},
   "outputs": [
    {
     "name": "stdout",
     "output_type": "stream",
     "text": [
      "I'm breathing......\n",
      "India\n",
      "I am an employee so I am luckily breathing \n",
      "Honda\n",
      "salary is 300\n",
      "I am an Programmer so I am luckily breathing++ \n",
      "Fiverr\n",
      "No salary to progrramers.\n",
      "India\n"
     ]
    }
   ],
   "source": [
    "#3) Multilevel Inheritance :-when a child class become a parent class for another child class .\n",
    "#Example\n",
    "class Person:\n",
    "    country=\"India\"\n",
    "    \n",
    "    def takeBreath(self):\n",
    "        print(\"I'm breathing......\")\n",
    "        \n",
    "class Employee(Person):\n",
    "    company=\"Honda\"\n",
    "    \n",
    "    def getSalary(self):\n",
    "        print(\"salary is 300\")\n",
    "        \n",
    "    def takeBreath(self):\n",
    "        print(\"I am an employee so I am luckily breathing \")\n",
    "        \n",
    "class Programmer(Employee):\n",
    "    company=\"Fiverr\"\n",
    "    \n",
    "    def getSalary(self):\n",
    "        print(\"No salary to progrramers.\")\n",
    "        \n",
    "    def takeBreath(self):\n",
    "        print(\"I am an Programmer so I am luckily breathing++ \")    \n",
    "        \n",
    "p=Person()           #Parentclass1\n",
    "p.takeBreath()\n",
    "#print(p.company)    #It throws an error        \n",
    "print(p.country) \n",
    "\n",
    "e=Employee()         #It has all the attributes of person class\n",
    "e.takeBreath()\n",
    "print(e.company)\n",
    "e.getSalary()\n",
    "\n",
    "pr=Programmer()       #It has all the attributes of Employee class\n",
    "pr.takeBreath()\n",
    "print(pr.company)\n",
    "pr.getSalary()\n",
    "print(pr.country)"
   ]
  }
 ],
 "metadata": {
  "kernelspec": {
   "display_name": "Python 3",
   "language": "python",
   "name": "python3"
  },
  "language_info": {
   "codemirror_mode": {
    "name": "ipython",
    "version": 3
   },
   "file_extension": ".py",
   "mimetype": "text/x-python",
   "name": "python",
   "nbconvert_exporter": "python",
   "pygments_lexer": "ipython3",
   "version": "3.8.8"
  }
 },
 "nbformat": 4,
 "nbformat_minor": 5
}
