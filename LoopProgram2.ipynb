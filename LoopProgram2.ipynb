{
 "cells": [
  {
   "cell_type": "markdown",
   "id": "c86d428c",
   "metadata": {},
   "source": [
    "# Loop Program"
   ]
  },
  {
   "cell_type": "code",
   "execution_count": 3,
   "id": "49cc059c",
   "metadata": {},
   "outputs": [
    {
     "name": "stdout",
     "output_type": "stream",
     "text": [
      "3\n"
     ]
    }
   ],
   "source": [
    "li=[1,2,3,4,5,6,7]\n",
    "length=len(li)\n",
    "j=0\n",
    "while length>=5:\n",
    "    j=j+1\n",
    "    length=length-1\n",
    "    continue\n",
    "    print(length)\n",
    "    if length==6:\n",
    "        break\n",
    "print(j)        "
   ]
  },
  {
   "cell_type": "code",
   "execution_count": 4,
   "id": "80222b8c",
   "metadata": {},
   "outputs": [
    {
     "name": "stdout",
     "output_type": "stream",
     "text": [
      "1\n"
     ]
    }
   ],
   "source": [
    "length=len(li)\n",
    "j=0\n",
    "while length>=5:\n",
    "    j=j+1\n",
    "    length=length-1\n",
    "    break\n",
    "    print(length)\n",
    "    if length==6:\n",
    "        continue\n",
    "print(j)        "
   ]
  },
  {
   "cell_type": "code",
   "execution_count": 5,
   "id": "5e305d23",
   "metadata": {},
   "outputs": [
    {
     "name": "stdout",
     "output_type": "stream",
     "text": [
      "7\n",
      "6\n",
      "5\n",
      "3\n"
     ]
    }
   ],
   "source": [
    "length=len(li)\n",
    "while length>=3:\n",
    "    print(length)\n",
    "    if length<=5:\n",
    "        break\n",
    "    j=j+1\n",
    "    length=length-1\n",
    "print(j)    "
   ]
  },
  {
   "cell_type": "code",
   "execution_count": 6,
   "id": "4ce6081b",
   "metadata": {},
   "outputs": [
    {
     "name": "stdout",
     "output_type": "stream",
     "text": [
      "enter number: 7\n",
      "Number is odd\n"
     ]
    }
   ],
   "source": [
    "#WAP to find out wheather the no is even or odd\n",
    "num=int(input(\"enter number: \"))\n",
    "if num%2==0:\n",
    "    print(\"Number is even\")\n",
    "else:\n",
    "    print(\"Number is odd\")"
   ]
  },
  {
   "cell_type": "code",
   "execution_count": null,
   "id": "2b699938",
   "metadata": {},
   "outputs": [],
   "source": [
    "#WAP to find out largest among 3 numbers \n",
    "a=int(input(\"Enter the first number: \"))\n",
    "b=int(input(\"Enter the second number: \"))\n",
    "c=int(input(\"Enter the third number: \"))\n",
    "if a>b and a>c:\n",
    "    print(\"a is greater\")\n",
    "if b>a and b>c: \n",
    "    print(\"b is greater\")\n",
    "if c>a and c>b:\n",
    "    print(\"c is greater\")"
   ]
  },
  {
   "cell_type": "code",
   "execution_count": 1,
   "id": "78e81a81",
   "metadata": {},
   "outputs": [
    {
     "name": "stdout",
     "output_type": "stream",
     "text": [
      "Enter your age: 22\n",
      "you are eligible for voting \n"
     ]
    }
   ],
   "source": [
    "#WAP to check wheather the person is eligible for voting or not\n",
    "age=int(input(\"Enter your age: \"))\n",
    "if age>=18:\n",
    "    print(\"you are eligible for voting \")\n",
    "else:\n",
    "    print(\"you are not eligible for voting \")"
   ]
  },
  {
   "cell_type": "code",
   "execution_count": 2,
   "id": "238a8af0",
   "metadata": {},
   "outputs": [
    {
     "name": "stdout",
     "output_type": "stream",
     "text": [
      "Enter your total Marks: 65\n",
      "Grade B\n"
     ]
    }
   ],
   "source": [
    "#WAP to check grade for user input marks\n",
    "\n",
    "marks=int(input(\"Enter your total Marks: \"))\n",
    "if marks>=90:\n",
    "    print('Grade O')\n",
    "elif marks>=80 and marks<90:\n",
    "    print('Grade E')\n",
    "elif marks>=70 and marks<80:\n",
    "    print('Grade A')\n",
    "elif marks>=60 and marks<70:\n",
    "    print('Grade B')\n",
    "elif marks>=50 and marks<60:\n",
    "    print('Grade c')\n",
    "elif marks>=40 and marks<50:\n",
    "    print('Grade D')\n",
    "else:\n",
    "    print('Fail')\n"
   ]
  }
 ],
 "metadata": {
  "kernelspec": {
   "display_name": "Python 3",
   "language": "python",
   "name": "python3"
  },
  "language_info": {
   "codemirror_mode": {
    "name": "ipython",
    "version": 3
   },
   "file_extension": ".py",
   "mimetype": "text/x-python",
   "name": "python",
   "nbconvert_exporter": "python",
   "pygments_lexer": "ipython3",
   "version": "3.8.8"
  }
 },
 "nbformat": 4,
 "nbformat_minor": 5
}
