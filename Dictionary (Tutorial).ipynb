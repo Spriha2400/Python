{
 "cells": [
  {
   "cell_type": "markdown",
   "id": "b6cb2790",
   "metadata": {},
   "source": [
    "# Dictionary"
   ]
  },
  {
   "cell_type": "code",
   "execution_count": 2,
   "id": "9bd60284",
   "metadata": {},
   "outputs": [],
   "source": [
    "#Creating dictionary\n",
    "myDict={\n",
    "       \"Fast\":\"In a quick manner\",     #we can add strings\n",
    "       \"Harry\" : \"A coder\",\n",
    "       \"Marks\":[1,2,3,4] ,             #we can add list\n",
    "       \"anotherdict\":{\"Harry\":\"Player\"}   #we can also make a nested dictionary\n",
    "       }"
   ]
  },
  {
   "cell_type": "code",
   "execution_count": 6,
   "id": "9cbb341e",
   "metadata": {},
   "outputs": [
    {
     "name": "stdout",
     "output_type": "stream",
     "text": [
      "In a quick manner\n",
      "A coder\n",
      "Player\n",
      "[1, 2, 3, 4]\n",
      "{'Fast': 'In a quick manner', 'Harry': 'A coder', 'Marks': [1, 2, 3, 4], 'anotherdict': {'Harry': 'Player'}}\n"
     ]
    }
   ],
   "source": [
    "#printing the dictionary\n",
    "#we can print the dictionary using the key value\n",
    "print(myDict[\"Fast\"])\n",
    "print(myDict[\"Harry\"])\n",
    "print(myDict[\"anotherdict\"][\"Harry\"])\n",
    "print(myDict[\"Marks\"])\n",
    "#we can also print the whole dictionary using this.\n",
    "print(myDict)"
   ]
  },
  {
   "cell_type": "code",
   "execution_count": 7,
   "id": "2f0b8e0f",
   "metadata": {},
   "outputs": [
    {
     "name": "stdout",
     "output_type": "stream",
     "text": [
      "[45, 78, 98]\n"
     ]
    }
   ],
   "source": [
    "#changing the values of dictionary\n",
    "#we can change the values of dictionary \n",
    "#dictionary is mutable\n",
    "myDict[\"Marks\"]=[45,78,98]\n",
    "print(myDict[\"Marks\"])"
   ]
  },
  {
   "cell_type": "code",
   "execution_count": 9,
   "id": "229606d5",
   "metadata": {},
   "outputs": [
    {
     "name": "stdout",
     "output_type": "stream",
     "text": [
      "{'Fast': 'In a quick manner', 'Harry': 'A coder', 'Marks': [1, 2, 3, 4], 'anotherdict': {'Harry': 'Player'}, 'Spriha': [1, 2, 3, 4]}\n"
     ]
    }
   ],
   "source": [
    "#we can't write the duplicate key values in that situation it overrites the key value.\n",
    "#in dictionary keys can't be same.\n",
    "#in dictionary values can be same .\n",
    "myDict={\n",
    "       \"Fast\":\"In a quick manner\",     \n",
    "       \"Harry\" : \"A coder\",\n",
    "       \"Marks\":[1,2,3,4] ,             \n",
    "       \"anotherdict\":{\"Harry\":\"Player\"},\n",
    "       \"Marks\":[1,2,3,4],\n",
    "       \"Spriha\":[1,2,3,4]\n",
    "       }\n",
    "print(myDict)    \n"
   ]
  },
  {
   "cell_type": "code",
   "execution_count": 15,
   "id": "d5132677",
   "metadata": {},
   "outputs": [
    {
     "name": "stdout",
     "output_type": "stream",
     "text": [
      "dict_keys(['Fast', 'Harry', 'Marks', 'anotherdict', 'Spriha'])\n",
      "<class 'dict_keys'>\n",
      "['Fast', 'Harry', 'Marks', 'anotherdict', 'Spriha']\n",
      "<class 'list'>\n"
     ]
    }
   ],
   "source": [
    "#Methods of dictionary\n",
    "#This method prints the key's of dictionary\n",
    "#The type of this key() is not list its a special class dict_keys but we can type cast it to list\n",
    "print(myDict.keys())\n",
    "print(type(myDict.keys()))\n",
    "print(list(myDict.keys()))\n",
    "print(type(list(myDict.keys())))"
   ]
  },
  {
   "cell_type": "code",
   "execution_count": 16,
   "id": "2354c067",
   "metadata": {},
   "outputs": [
    {
     "name": "stdout",
     "output_type": "stream",
     "text": [
      "dict_values(['In a quick manner', 'A coder', [1, 2, 3, 4], {'Harry': 'Player'}, [1, 2, 3, 4]])\n"
     ]
    }
   ],
   "source": [
    "#This method used for printing the values of dictionary.\n",
    "print(myDict.values())"
   ]
  },
  {
   "cell_type": "code",
   "execution_count": 17,
   "id": "f9b75e09",
   "metadata": {},
   "outputs": [
    {
     "name": "stdout",
     "output_type": "stream",
     "text": [
      "dict_items([('Fast', 'In a quick manner'), ('Harry', 'A coder'), ('Marks', [1, 2, 3, 4]), ('anotherdict', {'Harry': 'Player'}), ('Spriha', [1, 2, 3, 4])])\n"
     ]
    }
   ],
   "source": [
    "#This method used for printing the both values and keys of the dictionary\n",
    "print(myDict.items())"
   ]
  },
  {
   "cell_type": "code",
   "execution_count": 20,
   "id": "b9ab2a08",
   "metadata": {},
   "outputs": [
    {
     "name": "stdout",
     "output_type": "stream",
     "text": [
      "{'Fast': 'In a quick manner', 'Harry': 'A coder', 'Marks': [1, 2, 3, 4], 'anotherdict': {'Harry': 'Player'}, 'Spriha': 'Bestfriend', 'Ranjan': 'Friend', 'Gwen': 'Enemy', 'Spreeee': 'Bestfriend'}\n",
      "{'Fast': 'In a quick manner', 'Harry': 'A coder', 'Marks': [1, 2, 3, 4], 'anotherdict': {'Harry': 'Player'}, 'Spriha': 'Bestfriend', 'Ranjan': 'Friend', 'Gwen': 'Enemy', 'Spreeee': 'Bestfriend'}\n"
     ]
    }
   ],
   "source": [
    "#we can update the dictionary with some new value and keys.\n",
    "print(myDict)    #old Dictionary\n",
    "updateDict={\n",
    "    \"Ranjan\":\"Friend\",\n",
    "    \"Spriha\":\"Bestfriend\",\n",
    "    \"Gwen\":\"Enemy\"\n",
    "    }\n",
    "myDict.update(updateDict)   \n",
    "print(myDict)             #updated dictionary"
   ]
  },
  {
   "cell_type": "code",
   "execution_count": 21,
   "id": "e9aac421",
   "metadata": {},
   "outputs": [
    {
     "name": "stdout",
     "output_type": "stream",
     "text": [
      "Bestfriend\n"
     ]
    }
   ],
   "source": [
    "print(myDict.get(\"Spriha\"))"
   ]
  },
  {
   "cell_type": "code",
   "execution_count": 23,
   "id": "ce46c7f8",
   "metadata": {},
   "outputs": [
    {
     "name": "stdout",
     "output_type": "stream",
     "text": [
      "Bestfriend\n",
      "Bestfriend\n",
      "None\n"
     ]
    },
    {
     "ename": "KeyError",
     "evalue": "'Spriha2'",
     "output_type": "error",
     "traceback": [
      "\u001b[1;31m---------------------------------------------------------------------------\u001b[0m",
      "\u001b[1;31mKeyError\u001b[0m                                  Traceback (most recent call last)",
      "\u001b[1;32m<ipython-input-23-049128c69ace>\u001b[0m in \u001b[0;36m<module>\u001b[1;34m\u001b[0m\n\u001b[0;32m      3\u001b[0m \u001b[0mprint\u001b[0m\u001b[1;33m(\u001b[0m\u001b[0mmyDict\u001b[0m\u001b[1;33m[\u001b[0m\u001b[1;34m\"Divya\"\u001b[0m\u001b[1;33m]\u001b[0m\u001b[1;33m)\u001b[0m\u001b[1;33m\u001b[0m\u001b[1;33m\u001b[0m\u001b[0m\n\u001b[0;32m      4\u001b[0m \u001b[0mprint\u001b[0m\u001b[1;33m(\u001b[0m\u001b[0mmyDict\u001b[0m\u001b[1;33m.\u001b[0m\u001b[0mget\u001b[0m\u001b[1;33m(\u001b[0m\u001b[1;34m\"Divya2\"\u001b[0m\u001b[1;33m)\u001b[0m\u001b[1;33m)\u001b[0m\u001b[1;33m\u001b[0m\u001b[1;33m\u001b[0m\u001b[0m\n\u001b[1;32m----> 5\u001b[1;33m \u001b[0mprint\u001b[0m\u001b[1;33m(\u001b[0m\u001b[0mmyDict\u001b[0m\u001b[1;33m[\u001b[0m\u001b[1;34m\"Divya2\"\u001b[0m\u001b[1;33m]\u001b[0m\u001b[1;33m)\u001b[0m\u001b[1;33m\u001b[0m\u001b[1;33m\u001b[0m\u001b[0m\n\u001b[0m",
      "\u001b[1;31mKeyError\u001b[0m: 'Divya2'"
     ]
    }
   ],
   "source": [
    "#Difference between get() & [] methods.\n",
    "print(myDict.get(\"Spriha\"))\n",
    "print(myDict[\"Spriha\"])\n",
    "#the major difference is if the particular key is not present in the dictionary then\n",
    "print(myDict.get(\"Spriha2\"))  #return none as Spriha2 is not present in the dictionary\n",
    "print(myDict[\"Spriha2\"])      #throws an error Spriha2 is not present in the dictionary "
   ]
  }
 ],
 "metadata": {
  "kernelspec": {
   "display_name": "Python 3",
   "language": "python",
   "name": "python3"
  },
  "language_info": {
   "codemirror_mode": {
    "name": "ipython",
    "version": 3
   },
   "file_extension": ".py",
   "mimetype": "text/x-python",
   "name": "python",
   "nbconvert_exporter": "python",
   "pygments_lexer": "ipython3",
   "version": "3.8.8"
  }
 },
 "nbformat": 4,
 "nbformat_minor": 5
}
