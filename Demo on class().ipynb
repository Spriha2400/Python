{
 "cells": [
  {
   "cell_type": "code",
   "execution_count": null,
   "id": "80248535",
   "metadata": {},
   "outputs": [],
   "source": [
    "# Class():-A class method is a method which is bound to the class and not the object of class\n",
    "#@classmethod decorator is used to creat a class method."
   ]
  },
  {
   "cell_type": "code",
   "execution_count": 5,
   "id": "434bcb7a",
   "metadata": {},
   "outputs": [
    {
     "name": "stdout",
     "output_type": "stream",
     "text": [
      "100\n",
      "455\n",
      "100\n"
     ]
    }
   ],
   "source": [
    "#Lets see an example where we want to change the class attribute.\n",
    "class Employee:\n",
    "    company=\"Camel\"\n",
    "    salary=100\n",
    "    location=\"Delhi\"\n",
    "    \n",
    "    def changeSalary(self,salary):\n",
    "        self.salary=salary\n",
    "        \n",
    "e=Employee()\n",
    "print(e.salary)\n",
    "e.changeSalary(455)\n",
    "print(e.salary)\n",
    "print(Employee.salary)   #You can see we can't change the class attribute"
   ]
  },
  {
   "cell_type": "code",
   "execution_count": 6,
   "id": "3945d287",
   "metadata": {},
   "outputs": [
    {
     "name": "stdout",
     "output_type": "stream",
     "text": [
      "100\n",
      "455\n",
      "455\n"
     ]
    }
   ],
   "source": [
    "#so the first way to change the class attribute we can use constructor of class.\n",
    "class Employee:\n",
    "    company=\"Camel\"\n",
    "    salary=100\n",
    "    location=\"Delhi\"\n",
    "    \n",
    "    def changeSalary(self,salary):\n",
    "        self.__class__.salary=salary\n",
    "        \n",
    "e=Employee()\n",
    "print(e.salary)\n",
    "e.changeSalary(455)\n",
    "print(e.salary)\n",
    "print(Employee.salary)   "
   ]
  },
  {
   "cell_type": "code",
   "execution_count": 7,
   "id": "d66df1a3",
   "metadata": {},
   "outputs": [
    {
     "name": "stdout",
     "output_type": "stream",
     "text": [
      "100\n",
      "455\n",
      "455\n"
     ]
    }
   ],
   "source": [
    "#The second way to change the class attribute we can use class()method.\n",
    "class Employee:\n",
    "    company=\"Camel\"\n",
    "    salary=100\n",
    "    location=\"Delhi\"\n",
    "    \n",
    "    @classmethod        #decorator\n",
    "    def changeSalary(cls,salary):\n",
    "        cls.salary=salary\n",
    "        \n",
    "e=Employee()\n",
    "print(e.salary)\n",
    "e.changeSalary(455)\n",
    "print(e.salary)\n",
    "print(Employee.salary)   "
   ]
  }
 ],
 "metadata": {
  "kernelspec": {
   "display_name": "Python 3",
   "language": "python",
   "name": "python3"
  },
  "language_info": {
   "codemirror_mode": {
    "name": "ipython",
    "version": 3
   },
   "file_extension": ".py",
   "mimetype": "text/x-python",
   "name": "python",
   "nbconvert_exporter": "python",
   "pygments_lexer": "ipython3",
   "version": "3.8.8"
  }
 },
 "nbformat": 4,
 "nbformat_minor": 5
}
