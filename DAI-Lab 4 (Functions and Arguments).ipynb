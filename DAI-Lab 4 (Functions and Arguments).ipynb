{
 "cells": [
  {
   "cell_type": "markdown",
   "id": "58b52ec0",
   "metadata": {},
   "source": [
    "# 4.  Functions"
   ]
  },
  {
   "cell_type": "markdown",
   "id": "fcf2e40d",
   "metadata": {},
   "source": [
    "## 1. Defining Functions"
   ]
  },
  {
   "cell_type": "code",
   "execution_count": 2,
   "id": "270291d7",
   "metadata": {},
   "outputs": [
    {
     "name": "stdout",
     "output_type": "stream",
     "text": [
      "hi everyone\n",
      "welcome to divineAI\n"
     ]
    }
   ],
   "source": [
    "# Defining your own custom funtion.\n",
    "# we are creating our own custo fuction because in real time program the code will too lengthy so we have to break that code smaller part and maintainable.\n",
    "def greet():  #def means define\n",
    "    print(\"hi everyone\")\n",
    "    print(\"welcome to divineAI\")\n",
    "    \n",
    "greet()"
   ]
  },
  {
   "cell_type": "code",
   "execution_count": 3,
   "id": "d501a021",
   "metadata": {},
   "outputs": [
    {
     "name": "stdout",
     "output_type": "stream",
     "text": [
      "hi\n",
      "my name is sabyasachi mohanty\n",
      "and am working in divineAi\n"
     ]
    }
   ],
   "source": [
    "def name():\n",
    "    print(\"hi\")\n",
    "    print(\"my name is sabyasachi mohanty\")\n",
    "    print(\"and am working in divineAi\")\n",
    "name()"
   ]
  },
  {
   "cell_type": "markdown",
   "id": "f8c75564",
   "metadata": {},
   "source": [
    "## 2. Argument"
   ]
  },
  {
   "cell_type": "code",
   "execution_count": 4,
   "id": "f464b8cb",
   "metadata": {},
   "outputs": [
    {
     "name": "stdout",
     "output_type": "stream",
     "text": [
      "hi sabyasachi mohanty\n",
      "welcome to divineAi\n",
      "hi xxyyzz xyz\n",
      "welcome to divineAi\n",
      "hi rakesh das\n",
      "welcome to divineAi\n"
     ]
    }
   ],
   "source": [
    "def greet(first_name, last_name): #here first_name and last_name ae two parameter.\n",
    "    print(f\"hi {first_name} {last_name}\")# we are giving parameter is the input to define your function.\n",
    "    print(\"welcome to divineAi\")\n",
    "greet('sabyasachi','mohanty') #'sabyasachi' and 'mohanty' are tow argument.\n",
    "greet('xxyyzz','xyz')# argument is define as the actual value of the given parameter.\n",
    "greet('rakesh','das')"
   ]
  },
  {
   "cell_type": "markdown",
   "id": "76594a6b",
   "metadata": {},
   "source": [
    "## 3. Types of Functions"
   ]
  },
  {
   "cell_type": "code",
   "execution_count": 12,
   "id": "be42be22",
   "metadata": {},
   "outputs": [
    {
     "name": "stdout",
     "output_type": "stream",
     "text": [
      "Hi sabya\n"
     ]
    },
    {
     "data": {
      "text/plain": [
       "2"
      ]
     },
     "execution_count": 12,
     "metadata": {},
     "output_type": "execute_result"
    }
   ],
   "source": [
    "#We have two types of functions\n",
    "# 1- perform a task\n",
    "# 2-  calculate and Return a value\n",
    " \n",
    "def greet(name):\n",
    "    print(f\"Hi {name}\") # here gret and print function printing someting in the terminal or output.here they are doing some task.  \n",
    "greet('sabya')    \n",
    "    \n",
    "    \n",
    "    \n",
    "round(1.9) # here round function calculate something and return some vlaues.\n",
    "\n"
   ]
  },
  {
   "cell_type": "code",
   "execution_count": 7,
   "id": "becacbed",
   "metadata": {},
   "outputs": [
    {
     "data": {
      "text/plain": [
       "'hi sabyasachi'"
      ]
     },
     "execution_count": 7,
     "metadata": {},
     "output_type": "execute_result"
    }
   ],
   "source": [
    "def get_greeting(name):\n",
    "    return f\"hi {name}\" # we are using return statement to return value of the function.\n",
    "\n",
    "get_greeting('sabyasachi')\n",
    "\n"
   ]
  },
  {
   "cell_type": "markdown",
   "id": "b7bdb283",
   "metadata": {},
   "source": [
    "## 4. Keyword Argument "
   ]
  },
  {
   "cell_type": "code",
   "execution_count": 36,
   "id": "48821209",
   "metadata": {},
   "outputs": [
    {
     "data": {
      "text/plain": [
       "5"
      ]
     },
     "execution_count": 36,
     "metadata": {},
     "output_type": "execute_result"
    }
   ],
   "source": [
    " def increment(number, by):\n",
    "        return number + by\n",
    "    \n",
    " increment(2,3)"
   ]
  },
  {
   "cell_type": "code",
   "execution_count": 34,
   "id": "1ca71799",
   "metadata": {},
   "outputs": [
    {
     "data": {
      "text/plain": [
       "6"
      ]
     },
     "execution_count": 34,
     "metadata": {},
     "output_type": "execute_result"
    }
   ],
   "source": [
    "def increment(number,by):\n",
    "        return number + by\n",
    "    \n",
    "increment(2,by=4)# here by=1 is the keyword. We are using keywords to keep our program more readble.\n",
    "\n"
   ]
  },
  {
   "cell_type": "markdown",
   "id": "3aeb4f5a",
   "metadata": {},
   "source": [
    "## 5. Default Arguments"
   ]
  },
  {
   "cell_type": "code",
   "execution_count": 37,
   "id": "d707062e",
   "metadata": {},
   "outputs": [
    {
     "name": "stdout",
     "output_type": "stream",
     "text": [
      "7\n"
     ]
    }
   ],
   "source": [
    "def increment(number, by=2): # here we are using by=1 is a default vlaue.\n",
    "        return number + by\n",
    "    \n",
    "print(increment(5))"
   ]
  },
  {
   "cell_type": "code",
   "execution_count": 38,
   "id": "e5d7974b",
   "metadata": {},
   "outputs": [
    {
     "name": "stdout",
     "output_type": "stream",
     "text": [
      "5\n"
     ]
    }
   ],
   "source": [
    "def increment(number, by=1): \n",
    "    return number + by\n",
    "    \n",
    "print(increment(4,5)) # here by=1  behaves like optional parameter. \n"
   ]
  },
  {
   "cell_type": "code",
   "execution_count": 13,
   "id": "b90c471d",
   "metadata": {},
   "outputs": [
    {
     "data": {
      "text/plain": [
       "'sabya'"
      ]
     },
     "execution_count": 13,
     "metadata": {},
     "output_type": "execute_result"
    }
   ],
   "source": [
    "int = \"sabya\"\n",
    "int"
   ]
  },
  {
   "cell_type": "code",
   "execution_count": 14,
   "id": "0e9c6bd0",
   "metadata": {},
   "outputs": [
    {
     "ename": "SyntaxError",
     "evalue": "cannot assign to True (<ipython-input-14-833fee3719b0>, line 1)",
     "output_type": "error",
     "traceback": [
      "\u001b[0;36m  File \u001b[0;32m\"<ipython-input-14-833fee3719b0>\"\u001b[0;36m, line \u001b[0;32m1\u001b[0m\n\u001b[0;31m    True = 98\u001b[0m\n\u001b[0m    ^\u001b[0m\n\u001b[0;31mSyntaxError\u001b[0m\u001b[0;31m:\u001b[0m cannot assign to True\n"
     ]
    }
   ],
   "source": [
    "True = 98\n",
    "True"
   ]
  },
  {
   "cell_type": "code",
   "execution_count": 15,
   "id": "32a4e678",
   "metadata": {},
   "outputs": [
    {
     "data": {
      "text/plain": [
       "'djjvajg'"
      ]
     },
     "execution_count": 15,
     "metadata": {},
     "output_type": "execute_result"
    }
   ],
   "source": [
    "float = 'djjvajg'\n",
    "float"
   ]
  },
  {
   "cell_type": "code",
   "execution_count": 16,
   "id": "4a508b6f",
   "metadata": {},
   "outputs": [
    {
     "ename": "SyntaxError",
     "evalue": "invalid syntax (<ipython-input-16-ee0a35978e1c>, line 1)",
     "output_type": "error",
     "traceback": [
      "\u001b[0;36m  File \u001b[0;32m\"<ipython-input-16-ee0a35978e1c>\"\u001b[0;36m, line \u001b[0;32m1\u001b[0m\n\u001b[0;31m    del = 'xyz'\u001b[0m\n\u001b[0m        ^\u001b[0m\n\u001b[0;31mSyntaxError\u001b[0m\u001b[0;31m:\u001b[0m invalid syntax\n"
     ]
    }
   ],
   "source": [
    "del = 'xyz'\n",
    "del"
   ]
  },
  {
   "cell_type": "code",
   "execution_count": null,
   "id": "e0eba0ec",
   "metadata": {},
   "outputs": [],
   "source": []
  }
 ],
 "metadata": {
  "kernelspec": {
   "display_name": "Python 3",
   "language": "python",
   "name": "python3"
  },
  "language_info": {
   "codemirror_mode": {
    "name": "ipython",
    "version": 3
   },
   "file_extension": ".py",
   "mimetype": "text/x-python",
   "name": "python",
   "nbconvert_exporter": "python",
   "pygments_lexer": "ipython3",
   "version": "3.8.8"
  }
 },
 "nbformat": 4,
 "nbformat_minor": 5
}
