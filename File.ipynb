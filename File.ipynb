{
 "cells": [
  {
   "cell_type": "markdown",
   "id": "c3709bd8",
   "metadata": {},
   "source": [
    "# File I/O"
   ]
  },
  {
   "cell_type": "code",
   "execution_count": 11,
   "id": "29c939de",
   "metadata": {},
   "outputs": [
    {
     "name": "stdout",
     "output_type": "stream",
     "text": [
      "Divya\n"
     ]
    }
   ],
   "source": [
    "#opening file in read mode\n",
    "\n",
    "f=open('new.txt','r')   #open() used for opening the file new.txt is file name and r is the mode which is read.data=f.read()                              #read() is used to read the content of the created file\n",
    "data=f.read(5)           #reads first five character from the file\n",
    "print(data)             # by default the mode is 'r'\n",
    "f.close()               #close() is used to close the file . it is necessary to close the file."
   ]
  },
  {
   "cell_type": "code",
   "execution_count": 15,
   "id": "d24a8be6",
   "metadata": {},
   "outputs": [
    {
     "name": "stdout",
     "output_type": "stream",
     "text": [
      "Divya is a good girl\n",
      "\n",
      "Trident Academy of Technology\n",
      "\n"
     ]
    }
   ],
   "source": [
    "# We can also use readline()to read a full line of our file.\n",
    "f=open('new.txt','r')\n",
    "data=f.readline()       #By using readline()we can print the line of our file .\n",
    "print(data)             \n",
    "data=f.readline()       #by writing this two time we can print two lines of our file.\n",
    "print(data)\n",
    "f.close()"
   ]
  },
  {
   "cell_type": "code",
   "execution_count": null,
   "id": "3d473b4f",
   "metadata": {},
   "outputs": [],
   "source": [
    "'''\n",
    "Modes of opening a file\n",
    "r----> open for reading \n",
    "w---->open for writing \n",
    "a---->open for appending\n",
    "+---->open for updating \n",
    "\n",
    "'rb'---> will open for read in binary mode\n",
    "'rt'---> will open for read in text mode \n",
    "'''"
   ]
  },
  {
   "cell_type": "code",
   "execution_count": 16,
   "id": "5ca59934",
   "metadata": {},
   "outputs": [],
   "source": [
    "# Opening file in write mode \n",
    "\n",
    "f=open('new3.txt','w')           #It opens the file in write mode \n",
    "f.write(\"Please Write this to the file\")    # In this way we can write content to our file\n",
    "f.close()\n"
   ]
  },
  {
   "cell_type": "code",
   "execution_count": 17,
   "id": "7c4d174c",
   "metadata": {},
   "outputs": [],
   "source": [
    "#Opening file in appending mode\n",
    "f=open('new3.txt','a')\n",
    "f.write(\"I'm appending\")\n",
    "f.close()"
   ]
  },
  {
   "cell_type": "code",
   "execution_count": 24,
   "id": "16a0433c",
   "metadata": {},
   "outputs": [
    {
     "name": "stdout",
     "output_type": "stream",
     "text": [
      "My name is Divya\n",
      "Im from paradip\n"
     ]
    }
   ],
   "source": [
    "#With statement\n",
    "# this is also called context manager\n",
    "# This is the best way to open and close the file automatically.\n",
    "#syntax:\n",
    "with open('new2.txt','r') as f:\n",
    "    a=f.read()\n",
    "print(a)    "
   ]
  }
 ],
 "metadata": {
  "kernelspec": {
   "display_name": "Python 3",
   "language": "python",
   "name": "python3"
  },
  "language_info": {
   "codemirror_mode": {
    "name": "ipython",
    "version": 3
   },
   "file_extension": ".py",
   "mimetype": "text/x-python",
   "name": "python",
   "nbconvert_exporter": "python",
   "pygments_lexer": "ipython3",
   "version": "3.8.8"
  }
 },
 "nbformat": 4,
 "nbformat_minor": 5
}
