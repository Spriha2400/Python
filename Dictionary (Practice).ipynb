{
 "cells": [
  {
   "cell_type": "code",
   "execution_count": 1,
   "id": "baf0ca1e",
   "metadata": {},
   "outputs": [
    {
     "name": "stdout",
     "output_type": "stream",
     "text": [
      "Empty dictionary\n",
      "{}\n"
     ]
    }
   ],
   "source": [
    "Dict={}\n",
    "print(\"Empty dictionary\")\n",
    "print(Dict)"
   ]
  },
  {
   "cell_type": "code",
   "execution_count": 2,
   "id": "72254f85",
   "metadata": {},
   "outputs": [
    {
     "name": "stdout",
     "output_type": "stream",
     "text": [
      "\n",
      " Dictionary with use of dict():\n",
      "{1: 'Spriha', 2: 'has', 3: 'Ranjan'}\n"
     ]
    }
   ],
   "source": [
    "#create a dict with dict()\n",
    "Dict=dict({1:'Spriha',2:'has',3:'Ranjan'})\n",
    "print(\"\\n Dictionary with use of dict():\")\n",
    "print(Dict)"
   ]
  },
  {
   "cell_type": "code",
   "execution_count": 3,
   "id": "4d9040fa",
   "metadata": {},
   "outputs": [
    {
     "name": "stdout",
     "output_type": "stream",
     "text": [
      "\n",
      " dictionary with each item as a pair:\n",
      "{1: 'spriha', 2: 'has'}\n"
     ]
    }
   ],
   "source": [
    "#create a dict with each item as a pair\n",
    "Dict=dict([(1,'spriha'),(2,'has')])\n",
    "print(\"\\n dictionary with each item as a pair:\" )\n",
    "print(Dict)"
   ]
  },
  {
   "cell_type": "code",
   "execution_count": 4,
   "id": "bb3cda4f",
   "metadata": {},
   "outputs": [
    {
     "name": "stdout",
     "output_type": "stream",
     "text": [
      "{'Name': 'Spriha ranjan', 'country': 'India', 'State': 'Odisha', 'city': 'Bbsr', 'Msg': 'Welcome to my github acount'}\n"
     ]
    }
   ],
   "source": [
    "a={'Name':'Spriha ranjan','country':'India','State':'Odisha','city':'Bbsr','Msg':'Welcome to my github acount'}\n",
    "print(a)"
   ]
  },
  {
   "cell_type": "code",
   "execution_count": 5,
   "id": "4b872d21",
   "metadata": {},
   "outputs": [
    {
     "name": "stdout",
     "output_type": "stream",
     "text": [
      "Dictionary:  {'Name': 'Spriha ranjan', 'country': 'India', 'State': 'Odisha', 'city': 'Bbsr', 'Msg': 'Welcome to my github acount'}\n",
      "\n",
      " Now: {'Name': 'Spriha ranjan', 'country': 'India', 'city': 'Bbsr', 'Msg': 'Welcome to my github acount'}\n",
      "\n",
      " After deleting: {'Name': 'Spriha ranjan', 'country': 'India', 'city': 'Bbsr'}\n"
     ]
    }
   ],
   "source": [
    "#Removing elements\n",
    "print(\"Dictionary: \",a)\n",
    "#del key value\n",
    "del a['State']\n",
    "print(\"\\n Now:\",a)\n",
    "#del a keyfrom nested dict\n",
    "del a ['Msg']\n",
    "print(\"\\n After deleting:\",a)"
   ]
  },
  {
   "cell_type": "code",
   "execution_count": 6,
   "id": "bb8654fd",
   "metadata": {},
   "outputs": [
    {
     "data": {
      "text/plain": [
       "{'Name': 'Spriha ranjan', 'country': 'India', 'city': 'Bbsr'}"
      ]
     },
     "execution_count": 6,
     "metadata": {},
     "output_type": "execute_result"
    }
   ],
   "source": [
    "a"
   ]
  },
  {
   "cell_type": "code",
   "execution_count": 7,
   "id": "b74ac668",
   "metadata": {},
   "outputs": [
    {
     "name": "stdout",
     "output_type": "stream",
     "text": [
      "\n",
      " After deleting :{1: 'XTV', 2: 'MAX', 3: 'URN'}\n",
      "Popped key :III\n"
     ]
    }
   ],
   "source": [
    "b={1:'XTV',2:'MAX',3:'URN',4:'III'}\n",
    "pop_ele=b.pop(4)\n",
    "print(\"\\n After deleting :\"+str(b))\n",
    "print(\"Popped key :\"+str(pop_ele))"
   ]
  },
  {
   "cell_type": "code",
   "execution_count": 8,
   "id": "b7a3bb11",
   "metadata": {},
   "outputs": [
    {
     "name": "stdout",
     "output_type": "stream",
     "text": [
      "\n",
      " After deleting :{1: 'XTV', 2: 'MAX'}\n",
      "popped key: (3, 'URN')\n"
     ]
    }
   ],
   "source": [
    "pop_ele=b.popitem()\n",
    "print(\"\\n After deleting :\"+str(b))\n",
    "print(\"popped key: \"+str(pop_ele))"
   ]
  },
  {
   "cell_type": "code",
   "execution_count": 9,
   "id": "535c0d6e",
   "metadata": {},
   "outputs": [
    {
     "name": "stdout",
     "output_type": "stream",
     "text": [
      "\n",
      " after deleting entire dictionary:  {}\n"
     ]
    }
   ],
   "source": [
    "b.clear()\n",
    "print(\"\\n after deleting entire dictionary: \",b)"
   ]
  }
 ],
 "metadata": {
  "kernelspec": {
   "display_name": "Python 3",
   "language": "python",
   "name": "python3"
  },
  "language_info": {
   "codemirror_mode": {
    "name": "ipython",
    "version": 3
   },
   "file_extension": ".py",
   "mimetype": "text/x-python",
   "name": "python",
   "nbconvert_exporter": "python",
   "pygments_lexer": "ipython3",
   "version": "3.8.8"
  }
 },
 "nbformat": 4,
 "nbformat_minor": 5
}
