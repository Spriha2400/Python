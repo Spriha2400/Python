{
 "cells": [
  {
   "cell_type": "markdown",
   "id": "4e593232",
   "metadata": {},
   "source": [
    "# LISTS"
   ]
  },
  {
   "cell_type": "code",
   "execution_count": 1,
   "id": "fd23f42b",
   "metadata": {},
   "outputs": [
    {
     "name": "stdout",
     "output_type": "stream",
     "text": [
      "[1, 2, 5, 6, 9, 10]\n"
     ]
    }
   ],
   "source": [
    "#creating and printing a list\n",
    "a=[1,2,5,6,9,10]\n",
    "print(a)"
   ]
  },
  {
   "cell_type": "code",
   "execution_count": 3,
   "id": "00e9e907",
   "metadata": {},
   "outputs": [
    {
     "name": "stdout",
     "output_type": "stream",
     "text": [
      "5\n",
      "9\n"
     ]
    }
   ],
   "source": [
    "#for accessing an element from list\n",
    "print(a[2])\n",
    "print(a[4]) #indexes are starts from 0 in list"
   ]
  },
  {
   "cell_type": "code",
   "execution_count": 4,
   "id": "55cc30fe",
   "metadata": {},
   "outputs": [
    {
     "name": "stdout",
     "output_type": "stream",
     "text": [
      "[98, 2, 5, 6, 9, 10]\n"
     ]
    }
   ],
   "source": [
    "# changing the element of list\n",
    "a[0]=98\n",
    "print(a)  #we can change the element of list"
   ]
  },
  {
   "cell_type": "code",
   "execution_count": 6,
   "id": "963cf126",
   "metadata": {},
   "outputs": [
    {
     "name": "stdout",
     "output_type": "stream",
     "text": [
      "[45, 'DIVYA', False, 6.9]\n"
     ]
    }
   ],
   "source": [
    "#we can create a list with items of different types\n",
    "c=[45,\"DIVYA\",False,6.9]\n",
    "print(c)   #this is valid"
   ]
  },
  {
   "cell_type": "code",
   "execution_count": 13,
   "id": "15308823",
   "metadata": {},
   "outputs": [
    {
     "name": "stdout",
     "output_type": "stream",
     "text": [
      "['Divya', 'Minal', 'Richa', 'Shreya']\n",
      "['Minal', 'Richa', 'Shreya']\n",
      "['Divya', 'Minal', 'Richa', 'Shreya']\n",
      "[]\n",
      "['Divya', 'Minal', 'Richa', 'Shreya', 'pinku']\n",
      "['babu']\n"
     ]
    }
   ],
   "source": [
    "#slicing in list\n",
    "friends=[\"Divya\",\"Minal\",\"Richa\",\"Shreya\",\"pinku\",\"babu\"]\n",
    "print(friends[0:4])\n",
    "print(friends[1:4])\n",
    "print(friends[:4])\n",
    "print(friends[4:0])\n",
    "print(friends[0:-1])\n",
    "print(friends[-1:])"
   ]
  },
  {
   "cell_type": "code",
   "execution_count": 20,
   "id": "1cd4d242",
   "metadata": {},
   "outputs": [
    {
     "name": "stdout",
     "output_type": "stream",
     "text": [
      "None\n",
      "[1, 2, 7, 8, 15, 21]\n",
      "[21, 15, 8, 7, 2, 1]\n",
      "[21, 15, 8, 7, 2, 1, 89]\n",
      "[21, 544, 15, 8, 7, 2, 1, 89]\n",
      "[21, 544, 8, 7, 2, 1, 89]\n",
      "[544, 8, 7, 2, 1, 89]\n"
     ]
    }
   ],
   "source": [
    "#List methods\n",
    "l1=[1,8,7,2,21,15]\n",
    "print(l1.sort()) #this is a wrong way to do\n",
    "#sort the list\n",
    "l1.sort()\n",
    "print(l1)  #this is the right way to do\n",
    "#reverse the list\n",
    "l1.reverse()\n",
    "print(l1)\n",
    "#append means adds at the end of the list \n",
    "l1.append(89)\n",
    "print(l1)\n",
    "#inserts 544 at index 1\n",
    "l1.insert(1,544)\n",
    "print(l1)\n",
    "#delete the element and returns the value\n",
    "l1.pop(2)\n",
    "print(l1)\n",
    "#will remove the element\n",
    "l1.remove(21)\n",
    "print(l1)"
   ]
  }
 ],
 "metadata": {
  "kernelspec": {
   "display_name": "Python 3",
   "language": "python",
   "name": "python3"
  },
  "language_info": {
   "codemirror_mode": {
    "name": "ipython",
    "version": 3
   },
   "file_extension": ".py",
   "mimetype": "text/x-python",
   "name": "python",
   "nbconvert_exporter": "python",
   "pygments_lexer": "ipython3",
   "version": "3.8.8"
  }
 },
 "nbformat": 4,
 "nbformat_minor": 5
}
