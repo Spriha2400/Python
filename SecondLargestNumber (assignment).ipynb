{
 "cells": [
  {
   "cell_type": "code",
   "execution_count": 1,
   "metadata": {},
   "outputs": [
    {
     "name": "stdout",
     "output_type": "stream",
     "text": [
      "[70, 40, 5, 100, 125]\n",
      "125\n"
     ]
    }
   ],
   "source": [
    "list=[70,40,5,100,250,125]\n",
    "a=max(list)\n",
    "b=list.remove(a)\n",
    "print(list)\n",
    "c=max(list)\n",
    "print(c)"
   ]
  },
  {
   "cell_type": "code",
   "execution_count": 2,
   "metadata": {},
   "outputs": [
    {
     "name": "stdout",
     "output_type": "stream",
     "text": [
      "Number of inputs in the list7\n",
      "Enter list elements\n",
      "23\n",
      "45\n",
      "67\n",
      "32\n",
      "56\n",
      "78\n",
      "9\n",
      "[23, 45, 67, 32, 56, 78, 9]\n",
      "[9, 23, 32, 45, 56, 67, 78]\n",
      "Second largest number is 67\n"
     ]
    }
   ],
   "source": [
    "\n",
    "list=[]\n",
    "a=int(input(\"Number of inputs in the list\"))\n",
    "print(\"Enter list elements\")\n",
    "for i in range(a):\n",
    "    j=int(input())\n",
    "    list.append(j)\n",
    "print(list)\n",
    "list.sort()\n",
    "print(list)\n",
    "print(\"Second largest number is\",list[i-1])\n"
   ]
  },
  {
   "cell_type": "code",
   "execution_count": null,
   "metadata": {},
   "outputs": [],
   "source": []
  }
 ],
 "metadata": {
  "kernelspec": {
   "display_name": "Python 3",
   "language": "python",
   "name": "python3"
  },
  "language_info": {
   "codemirror_mode": {
    "name": "ipython",
    "version": 3
   },
   "file_extension": ".py",
   "mimetype": "text/x-python",
   "name": "python",
   "nbconvert_exporter": "python",
   "pygments_lexer": "ipython3",
   "version": "3.7.6"
  }
 },
 "nbformat": 4,
 "nbformat_minor": 4
}
