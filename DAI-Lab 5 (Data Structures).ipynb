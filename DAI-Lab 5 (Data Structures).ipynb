{
 "cells": [
  {
   "cell_type": "markdown",
   "id": "c7205cbb",
   "metadata": {},
   "source": [
    "# 5. Data Structures"
   ]
  },
  {
   "cell_type": "markdown",
   "id": "300a4615",
   "metadata": {},
   "source": [
    "## 1. Lists"
   ]
  },
  {
   "cell_type": "code",
   "execution_count": null,
   "id": "fcfcb290",
   "metadata": {},
   "outputs": [],
   "source": [
    "letters = ['a','b','c']\n",
    "matrix = [[0,1],[2,0]]\n"
   ]
  },
  {
   "cell_type": "code",
   "execution_count": null,
   "id": "d9c34fc2",
   "metadata": {},
   "outputs": [],
   "source": [
    "zeros = [0] * 100\n",
    "print(zeros)"
   ]
  },
  {
   "cell_type": "code",
   "execution_count": null,
   "id": "86d392d3",
   "metadata": {},
   "outputs": [],
   "source": [
    "letters = ['a','b','c']\n",
    "zeros = [0] * 5\n",
    "combined = zeros + letters\n",
    "print(combined)"
   ]
  },
  {
   "cell_type": "code",
   "execution_count": null,
   "id": "82f8642f",
   "metadata": {},
   "outputs": [],
   "source": [
    "numbers = range(30)\n",
    "\n",
    "range(1,30)"
   ]
  },
  {
   "cell_type": "code",
   "execution_count": null,
   "id": "a69edde9",
   "metadata": {},
   "outputs": [],
   "source": [
    "char = list('hello world') #list are iterable\n",
    "print(char)\n",
    "print(len(char))"
   ]
  },
  {
   "cell_type": "markdown",
   "id": "4f0b629c",
   "metadata": {},
   "source": [
    "## 2. Accessing Items"
   ]
  },
  {
   "cell_type": "code",
   "execution_count": null,
   "id": "89c7da06",
   "metadata": {},
   "outputs": [],
   "source": [
    "letters = ['a','b','c','d']\n",
    "print(letters[0])"
   ]
  },
  {
   "cell_type": "code",
   "execution_count": null,
   "id": "79e5f11c",
   "metadata": {},
   "outputs": [],
   "source": [
    "letters = ['a','b','c','d']\n",
    "print(letters[-1])"
   ]
  },
  {
   "cell_type": "code",
   "execution_count": null,
   "id": "28f08466",
   "metadata": {},
   "outputs": [],
   "source": [
    "letters = ['a','b','c','d']\n",
    "letters[0] = 'A'\n",
    "print(letters)"
   ]
  },
  {
   "cell_type": "code",
   "execution_count": null,
   "id": "910aaf36",
   "metadata": {},
   "outputs": [],
   "source": [
    "letters = ['a','b','c','d']\n",
    "letters[0] = 'A'\n",
    "print(letters[0:3])\n",
    "print(letters[0:])\n",
    "letters[::2]\n",
    "letters[::-1]"
   ]
  },
  {
   "cell_type": "code",
   "execution_count": 97,
   "id": "63d49ae1",
   "metadata": {},
   "outputs": [
    {
     "name": "stdout",
     "output_type": "stream",
     "text": [
      "[0, 1, 2, 3, 4, 5, 6, 7, 8, 9, 10, 11, 12, 13, 14, 15, 16, 17, 18, 19]\n"
     ]
    }
   ],
   "source": [
    "num = list(range(20))\n",
    "print(num)"
   ]
  },
  {
   "cell_type": "code",
   "execution_count": null,
   "id": "b8f47c27",
   "metadata": {},
   "outputs": [],
   "source": [
    "num = list(range(20))\n",
    "print(num[::-1])"
   ]
  },
  {
   "cell_type": "markdown",
   "id": "dbb7b1c5",
   "metadata": {},
   "source": [
    "## 3. Looping over Lists"
   ]
  },
  {
   "cell_type": "code",
   "execution_count": null,
   "id": "fa7ec7ba",
   "metadata": {},
   "outputs": [],
   "source": [
    "letters = ['a','b','c']\n",
    "for letter in enumerate(letters):\n",
    "    print(letter[0],letter[1])\n",
    "            "
   ]
  },
  {
   "cell_type": "code",
   "execution_count": null,
   "id": "b2f3582d",
   "metadata": {},
   "outputs": [],
   "source": [
    "letters = ['a','b','c']\n",
    "\n",
    "for index, letter in enumerate(letters):\n",
    "    print(index,letter)"
   ]
  },
  {
   "cell_type": "markdown",
   "id": "5c837ba1",
   "metadata": {},
   "source": [
    "## 4. Adding/ removing Items"
   ]
  },
  {
   "cell_type": "code",
   "execution_count": 98,
   "id": "a481fc09",
   "metadata": {},
   "outputs": [
    {
     "name": "stdout",
     "output_type": "stream",
     "text": [
      "['a', 'b', 'c', 'd', 'e', 'f', 'e']\n"
     ]
    }
   ],
   "source": [
    "letters = ['a','b','c','d','e','f']\n",
    "letters.append('e')\n",
    "print(letters)"
   ]
  },
  {
   "cell_type": "code",
   "execution_count": 99,
   "id": "eaefe523",
   "metadata": {},
   "outputs": [
    {
     "name": "stdout",
     "output_type": "stream",
     "text": [
      "['divineai', 'a', 'b', 'c', 'd', 'e']\n"
     ]
    }
   ],
   "source": [
    "letters = ['a','b','c','d','e']\n",
    "letters.insert(0,'divineai')\n",
    "print(letters)"
   ]
  },
  {
   "cell_type": "code",
   "execution_count": 141,
   "id": "08150501",
   "metadata": {},
   "outputs": [
    {
     "ename": "IndexError",
     "evalue": "pop index out of range",
     "output_type": "error",
     "traceback": [
      "\u001b[0;31m---------------------------------------------------------------------------\u001b[0m",
      "\u001b[0;31mIndexError\u001b[0m                                Traceback (most recent call last)",
      "\u001b[0;32m<ipython-input-141-c47118a9a3c4>\u001b[0m in \u001b[0;36m<module>\u001b[0;34m\u001b[0m\n\u001b[0;32m----> 1\u001b[0;31m \u001b[0mletters\u001b[0m\u001b[0;34m.\u001b[0m\u001b[0mpop\u001b[0m\u001b[0;34m(\u001b[0m\u001b[0;36m3\u001b[0m\u001b[0;34m)\u001b[0m\u001b[0;34m\u001b[0m\u001b[0;34m\u001b[0m\u001b[0m\n\u001b[0m\u001b[1;32m      2\u001b[0m \u001b[0mletters\u001b[0m\u001b[0;34m\u001b[0m\u001b[0;34m\u001b[0m\u001b[0m\n",
      "\u001b[0;31mIndexError\u001b[0m: pop index out of range"
     ]
    }
   ],
   "source": [
    "letters.pop(3)\n",
    "letters"
   ]
  },
  {
   "cell_type": "code",
   "execution_count": 140,
   "id": "efeea5e9",
   "metadata": {},
   "outputs": [
    {
     "data": {
      "text/plain": [
       "['a', 'b', 'c']"
      ]
     },
     "execution_count": 140,
     "metadata": {},
     "output_type": "execute_result"
    }
   ],
   "source": [
    "letters.pop(3)\n",
    "letters"
   ]
  },
  {
   "cell_type": "code",
   "execution_count": 112,
   "id": "48aa1367",
   "metadata": {},
   "outputs": [
    {
     "data": {
      "text/plain": [
       "['a', 'c', 'd']"
      ]
     },
     "execution_count": 112,
     "metadata": {},
     "output_type": "execute_result"
    }
   ],
   "source": [
    "names = ['a','b','c','d']\n",
    "names.remove(\"b\")\n",
    "names\n"
   ]
  },
  {
   "cell_type": "code",
   "execution_count": 128,
   "id": "91c6e3c0",
   "metadata": {},
   "outputs": [
    {
     "ename": "NameError",
     "evalue": "name 'xyz' is not defined",
     "output_type": "error",
     "traceback": [
      "\u001b[0;31m---------------------------------------------------------------------------\u001b[0m",
      "\u001b[0;31mNameError\u001b[0m                                 Traceback (most recent call last)",
      "\u001b[0;32m<ipython-input-128-e7283fe99251>\u001b[0m in \u001b[0;36m<module>\u001b[0;34m\u001b[0m\n\u001b[1;32m      1\u001b[0m \u001b[0mxyz\u001b[0m \u001b[0;34m=\u001b[0m \u001b[0;34m[\u001b[0m\u001b[0;36m1\u001b[0m\u001b[0;34m,\u001b[0m\u001b[0;36m2\u001b[0m\u001b[0;34m,\u001b[0m\u001b[0;36m3\u001b[0m\u001b[0;34m,\u001b[0m\u001b[0;36m4\u001b[0m\u001b[0;34m,\u001b[0m\u001b[0;36m45\u001b[0m\u001b[0;34m]\u001b[0m\u001b[0;34m\u001b[0m\u001b[0;34m\u001b[0m\u001b[0m\n\u001b[1;32m      2\u001b[0m \u001b[0;32mdel\u001b[0m \u001b[0mxyz\u001b[0m\u001b[0;34m\u001b[0m\u001b[0;34m\u001b[0m\u001b[0m\n\u001b[0;32m----> 3\u001b[0;31m \u001b[0mxyz\u001b[0m\u001b[0;34m\u001b[0m\u001b[0;34m\u001b[0m\u001b[0m\n\u001b[0m",
      "\u001b[0;31mNameError\u001b[0m: name 'xyz' is not defined"
     ]
    }
   ],
   "source": [
    "xyz = [1,2,3,4,45]\n",
    "del xyz\n",
    "xyz"
   ]
  },
  {
   "cell_type": "code",
   "execution_count": 125,
   "id": "50f2fd4f",
   "metadata": {},
   "outputs": [
    {
     "ename": "NameError",
     "evalue": "name 'xyz' is not defined",
     "output_type": "error",
     "traceback": [
      "\u001b[0;31m---------------------------------------------------------------------------\u001b[0m",
      "\u001b[0;31mNameError\u001b[0m                                 Traceback (most recent call last)",
      "\u001b[0;32m<ipython-input-125-b6499aa2e891>\u001b[0m in \u001b[0;36m<module>\u001b[0;34m\u001b[0m\n\u001b[0;32m----> 1\u001b[0;31m \u001b[0mprint\u001b[0m\u001b[0;34m(\u001b[0m\u001b[0mxyz\u001b[0m\u001b[0;34m)\u001b[0m\u001b[0;34m\u001b[0m\u001b[0;34m\u001b[0m\u001b[0m\n\u001b[0m",
      "\u001b[0;31mNameError\u001b[0m: name 'xyz' is not defined"
     ]
    }
   ],
   "source": [
    "print(xyz)"
   ]
  },
  {
   "cell_type": "code",
   "execution_count": 114,
   "id": "0f9ea5b5",
   "metadata": {},
   "outputs": [
    {
     "data": {
      "text/plain": [
       "[]"
      ]
     },
     "execution_count": 114,
     "metadata": {},
     "output_type": "execute_result"
    }
   ],
   "source": [
    "xyz.clear()\n",
    "xyz"
   ]
  },
  {
   "cell_type": "markdown",
   "id": "0343d63b",
   "metadata": {},
   "source": [
    "## 5. Finding Items"
   ]
  },
  {
   "cell_type": "code",
   "execution_count": 129,
   "id": "1b85d050",
   "metadata": {},
   "outputs": [
    {
     "name": "stdout",
     "output_type": "stream",
     "text": [
      "2\n"
     ]
    }
   ],
   "source": [
    "letters = ['a','b','c','d']\n",
    "print(letters.index('c'))"
   ]
  },
  {
   "cell_type": "code",
   "execution_count": 130,
   "id": "2def31aa",
   "metadata": {},
   "outputs": [
    {
     "ename": "ValueError",
     "evalue": "'e' is not in list",
     "output_type": "error",
     "traceback": [
      "\u001b[0;31m---------------------------------------------------------------------------\u001b[0m",
      "\u001b[0;31mValueError\u001b[0m                                Traceback (most recent call last)",
      "\u001b[0;32m<ipython-input-130-37fe9a8e5896>\u001b[0m in \u001b[0;36m<module>\u001b[0;34m\u001b[0m\n\u001b[1;32m      1\u001b[0m \u001b[0mletters\u001b[0m \u001b[0;34m=\u001b[0m \u001b[0;34m[\u001b[0m\u001b[0;34m'a'\u001b[0m\u001b[0;34m,\u001b[0m\u001b[0;34m'b'\u001b[0m\u001b[0;34m,\u001b[0m\u001b[0;34m'c'\u001b[0m\u001b[0;34m,\u001b[0m\u001b[0;34m'd'\u001b[0m\u001b[0;34m]\u001b[0m\u001b[0;34m\u001b[0m\u001b[0;34m\u001b[0m\u001b[0m\n\u001b[0;32m----> 2\u001b[0;31m \u001b[0mprint\u001b[0m\u001b[0;34m(\u001b[0m\u001b[0mletters\u001b[0m\u001b[0;34m.\u001b[0m\u001b[0mindex\u001b[0m\u001b[0;34m(\u001b[0m\u001b[0;34m'e'\u001b[0m\u001b[0;34m)\u001b[0m\u001b[0;34m)\u001b[0m\u001b[0;34m\u001b[0m\u001b[0;34m\u001b[0m\u001b[0m\n\u001b[0m",
      "\u001b[0;31mValueError\u001b[0m: 'e' is not in list"
     ]
    }
   ],
   "source": [
    "letters = ['a','b','c','d']\n",
    "print(letters.index('e'))"
   ]
  },
  {
   "cell_type": "code",
   "execution_count": 134,
   "id": "795a5bd8",
   "metadata": {},
   "outputs": [
    {
     "name": "stdout",
     "output_type": "stream",
     "text": [
      "2\n"
     ]
    }
   ],
   "source": [
    "letters = ['a','b','c','d']\n",
    "if 'c' in letters:\n",
    "    print(letters.index('c'))\n"
   ]
  },
  {
   "cell_type": "code",
   "execution_count": 133,
   "id": "c27f4c92",
   "metadata": {},
   "outputs": [
    {
     "data": {
      "text/plain": [
       "2"
      ]
     },
     "execution_count": 133,
     "metadata": {},
     "output_type": "execute_result"
    }
   ],
   "source": [
    "letters = ['a','b','c','d','d']\n",
    "letters.count('d')"
   ]
  },
  {
   "cell_type": "markdown",
   "id": "750984b3",
   "metadata": {},
   "source": [
    "## 6. Sorting Lists"
   ]
  },
  {
   "cell_type": "code",
   "execution_count": 135,
   "id": "bbe64fe5",
   "metadata": {},
   "outputs": [
    {
     "name": "stdout",
     "output_type": "stream",
     "text": [
      "[1, 3, 5, 28, 45, 59, 91, 98]\n"
     ]
    }
   ],
   "source": [
    "numbers = [59,98,1,91,3,5,28,45]\n",
    "numbers.sort()\n",
    "print(numbers)"
   ]
  },
  {
   "cell_type": "code",
   "execution_count": 139,
   "id": "1881db54",
   "metadata": {},
   "outputs": [
    {
     "name": "stdout",
     "output_type": "stream",
     "text": [
      "[98, 91, 59, 45, 28, 5, 3, 1]\n"
     ]
    }
   ],
   "source": [
    "numbers = [59,98,1,91,3,5,28,45]\n",
    "numbers.sort(reverse=True)\n",
    "print(numbers)"
   ]
  },
  {
   "cell_type": "code",
   "execution_count": 2,
   "id": "d3af0774",
   "metadata": {},
   "outputs": [
    {
     "name": "stdout",
     "output_type": "stream",
     "text": [
      "[1, 3, 5, 28, 45, 59, 91, 98]\n"
     ]
    }
   ],
   "source": [
    "numbers = [59,98,1,91,3,5,28,45]\n",
    "print(sorted(numbers))\n",
    "#print(numbers)"
   ]
  },
  {
   "cell_type": "code",
   "execution_count": 3,
   "id": "55a767ff",
   "metadata": {},
   "outputs": [
    {
     "name": "stdout",
     "output_type": "stream",
     "text": [
      "[98, 91, 59, 45, 28, 5, 3, 1]\n",
      "[59, 98, 1, 91, 3, 5, 28, 45]\n"
     ]
    }
   ],
   "source": [
    "numbers = [59,98,1,91,3,5,28,45]\n",
    "print(sorted(numbers,reverse=True))\n",
    "print(numbers)"
   ]
  },
  {
   "cell_type": "code",
   "execution_count": 4,
   "id": "6206fcce",
   "metadata": {},
   "outputs": [
    {
     "name": "stdout",
     "output_type": "stream",
     "text": [
      "[('producct1', 50), ('product2', 20), ('product3', 90), ('product4', 40)]\n"
     ]
    }
   ],
   "source": [
    "items = [(\"producct1\",50),\n",
    "         (\"product2\",20),\n",
    "         ('product3',90),\n",
    "         (\"product4\",40)\n",
    "]\n",
    "\n",
    "items.sort()\n",
    "print(items)"
   ]
  },
  {
   "cell_type": "code",
   "execution_count": 8,
   "id": "d59ac480",
   "metadata": {},
   "outputs": [
    {
     "name": "stdout",
     "output_type": "stream",
     "text": [
      "[('product2', 20), ('product4', 40), ('producct1', 50), ('product9', 90)]\n"
     ]
    }
   ],
   "source": [
    "items = [(\"producct1\",50),\n",
    "         (\"product2\",20),\n",
    "         ('product9',90),\n",
    "         (\"product4\",40)\n",
    "]\n",
    "def sort_item(item):\n",
    "    return item[1]\n",
    "items.sort(key = sort_item)\n",
    "print(items)"
   ]
  },
  {
   "cell_type": "markdown",
   "id": "4f824bce",
   "metadata": {},
   "source": [
    "## 7. Lambda function"
   ]
  },
  {
   "cell_type": "markdown",
   "id": "f2a1e235",
   "metadata": {},
   "source": [
    "#### lamda function is basically a simple one line anonymous function that we can pass to other function. "
   ]
  },
  {
   "cell_type": "code",
   "execution_count": 13,
   "id": "b783a763",
   "metadata": {},
   "outputs": [
    {
     "name": "stdout",
     "output_type": "stream",
     "text": [
      "[('product2', 20), ('product4', 40), ('producct1', 50), ('product3', 90)]\n"
     ]
    }
   ],
   "source": [
    "items = [(\"producct1\",50),\n",
    "         (\"product2\",20),\n",
    "         ('product3',90),\n",
    "         (\"product4\",40)\n",
    "]\n",
    "\n",
    "items.sort(key=lambda x:x[1])\n",
    "print(items)\n"
   ]
  },
  {
   "cell_type": "code",
   "execution_count": 10,
   "id": "8dd66e49",
   "metadata": {},
   "outputs": [
    {
     "data": {
      "text/plain": [
       "5"
      ]
     },
     "execution_count": 10,
     "metadata": {},
     "output_type": "execute_result"
    }
   ],
   "source": [
    "# Lambda functions or anonymous function or one line function.\n",
    "def minus(x,y):\n",
    "    return x-y\n",
    "minus (9,4)"
   ]
  },
  {
   "cell_type": "code",
   "execution_count": 12,
   "id": "a7c1caf7",
   "metadata": {},
   "outputs": [
    {
     "data": {
      "text/plain": [
       "13"
      ]
     },
     "execution_count": 12,
     "metadata": {},
     "output_type": "execute_result"
    }
   ],
   "source": [
    "minus = lambda x,y : x+y \n",
    "minus(9,4)\n"
   ]
  },
  {
   "cell_type": "code",
   "execution_count": 21,
   "id": "a2143469",
   "metadata": {},
   "outputs": [
    {
     "name": "stdout",
     "output_type": "stream",
     "text": [
      "[[6, 98], [20, 45], [23, 4], [56, 32]]\n"
     ]
    }
   ],
   "source": [
    "def a_first(a):\n",
    "    return a[0]\n",
    "\n",
    "a = [[23,4],[6,98],[56,32],[20,45]]\n",
    "a.sort(key = a_first)\n",
    "print(a)"
   ]
  },
  {
   "cell_type": "code",
   "execution_count": 20,
   "id": "7b870a0a",
   "metadata": {},
   "outputs": [
    {
     "name": "stdout",
     "output_type": "stream",
     "text": [
      "[[6, 98], [20, 45], [23, 4], [56, 32]]\n"
     ]
    }
   ],
   "source": [
    "a = [[23,4],[6,98],[56,32],[20,45]]\n",
    "a.sort(key = lambda x:x[0])\n",
    "print(a)"
   ]
  },
  {
   "cell_type": "markdown",
   "id": "f7e0991a",
   "metadata": {},
   "source": [
    "##  8.Zip Function"
   ]
  },
  {
   "cell_type": "code",
   "execution_count": 23,
   "id": "c9ec3fa6",
   "metadata": {},
   "outputs": [
    {
     "name": "stdout",
     "output_type": "stream",
     "text": [
      "[(1, 10), (2, 20)]\n"
     ]
    }
   ],
   "source": [
    "List1 = [1,2,3]\n",
    "List2 = [10,20]\n",
    "print(list(zip(List1,List2)))"
   ]
  },
  {
   "cell_type": "code",
   "execution_count": 29,
   "id": "55b09d68",
   "metadata": {},
   "outputs": [
    {
     "name": "stdout",
     "output_type": "stream",
     "text": [
      "[('a', 1, 10), ('b', 2, 20), ('c', 3, 30), ('d', 5, 50)]\n"
     ]
    }
   ],
   "source": [
    "List1 = [1,2,3,5,90]\n",
    "List2 = [10,20,30,50,80]\n",
    "print(list(zip(\"abcd\",List1,List2)))"
   ]
  },
  {
   "cell_type": "markdown",
   "id": "931a1340",
   "metadata": {},
   "source": [
    "## 9.Stack"
   ]
  },
  {
   "cell_type": "code",
   "execution_count": 32,
   "id": "e7eced52",
   "metadata": {},
   "outputs": [
    {
     "name": "stdout",
     "output_type": "stream",
     "text": [
      "[1, 2, 3, 40, 'c']\n"
     ]
    }
   ],
   "source": [
    "#Stack behaves on LIFO behaviour\n",
    "browsing = []\n",
    "browsing.append(1)\n",
    "browsing.append(2)\n",
    "browsing.append(3)\n",
    "browsing.append(40)\n",
    "browsing.append(\"c\")\n",
    "print(browsing)"
   ]
  },
  {
   "cell_type": "code",
   "execution_count": 34,
   "id": "79d8abd2",
   "metadata": {},
   "outputs": [
    {
     "name": "stdout",
     "output_type": "stream",
     "text": [
      "[1, 2, 3]\n",
      "3\n",
      "[1, 2]\n"
     ]
    }
   ],
   "source": [
    "browsing = []\n",
    "browsing.append(1)\n",
    "browsing.append(2)\n",
    "browsing.append(3)\n",
    "print(browsing)\n",
    "last = browsing.pop()\n",
    "print(last)\n",
    "print(browsing)\n"
   ]
  },
  {
   "cell_type": "markdown",
   "id": "c906301e",
   "metadata": {},
   "source": [
    "## 10.Queues"
   ]
  },
  {
   "cell_type": "code",
   "execution_count": null,
   "id": "3283ba68",
   "metadata": {},
   "outputs": [],
   "source": [
    "#Queues behaves on FIFO behaviour\n",
    "#methods -- 1.enqueue\n",
    "#           2.dequeue\n",
    "#           3.First value\n",
    "#           4.Last value\n",
    "#           5.Peak(its shows the position of the value in the lit)\n",
    "#           6.Is empty\n",
    "#           7.is full\n",
    "\n"
   ]
  },
  {
   "cell_type": "code",
   "execution_count": 37,
   "id": "5d6fd4e5",
   "metadata": {},
   "outputs": [
    {
     "name": "stdout",
     "output_type": "stream",
     "text": [
      "deque([1, 2, 3, 4, 5])\n",
      "deque([2, 3, 4, 5])\n"
     ]
    }
   ],
   "source": [
    "from collections import deque\n",
    "queue = deque([])\n",
    "queue.append(1)\n",
    "queue.append(2)\n",
    "queue.append(3)\n",
    "queue.append(4)\n",
    "queue.append(5)\n",
    "             \n",
    "print(queue)\n",
    "queue.popleft()\n",
    "print(queue)"
   ]
  },
  {
   "cell_type": "markdown",
   "id": "51d0b8d0",
   "metadata": {},
   "source": [
    "##  11.Tuples"
   ]
  },
  {
   "cell_type": "code",
   "execution_count": 38,
   "id": "e26149ae",
   "metadata": {},
   "outputs": [],
   "source": [
    "point = (1,2,3,4,5)"
   ]
  },
  {
   "cell_type": "code",
   "execution_count": 39,
   "id": "5ebc4f95",
   "metadata": {},
   "outputs": [
    {
     "name": "stdout",
     "output_type": "stream",
     "text": [
      "(1, 2, 3, 4)\n"
     ]
    }
   ],
   "source": [
    "point1 = (1,2) + (3,4)\n",
    "print(point1)"
   ]
  },
  {
   "cell_type": "code",
   "execution_count": 40,
   "id": "f5d664d0",
   "metadata": {},
   "outputs": [
    {
     "name": "stdout",
     "output_type": "stream",
     "text": [
      "(1, 2)\n"
     ]
    }
   ],
   "source": [
    "point3 = tuple([1,2])\n",
    "print(point3)"
   ]
  },
  {
   "cell_type": "markdown",
   "id": "f222ed92",
   "metadata": {},
   "source": [
    "## 12. Swapping Variables"
   ]
  },
  {
   "cell_type": "code",
   "execution_count": 41,
   "id": "eeebf158",
   "metadata": {},
   "outputs": [
    {
     "name": "stdout",
     "output_type": "stream",
     "text": [
      "x= 20\n",
      "y= 10\n"
     ]
    }
   ],
   "source": [
    "x = 10\n",
    "y = 20\n",
    "\n",
    "z = x\n",
    "x = y\n",
    "y = z\n",
    "\n",
    "print(\"x=\",x)\n",
    "print(\"y=\",y)\n"
   ]
  },
  {
   "cell_type": "code",
   "execution_count": 42,
   "id": "5e681eaf",
   "metadata": {},
   "outputs": [
    {
     "name": "stdout",
     "output_type": "stream",
     "text": [
      "x= 20\n",
      "y= 10\n"
     ]
    }
   ],
   "source": [
    "x = 10\n",
    "y = 20\n",
    "\n",
    "x,y = y,x\n",
    "\n",
    "print(\"x=\",x)\n",
    "print(\"y=\",y)\n"
   ]
  },
  {
   "cell_type": "markdown",
   "id": "7b3c5e3f",
   "metadata": {},
   "source": [
    "## 13.Arrays"
   ]
  },
  {
   "cell_type": "code",
   "execution_count": 46,
   "id": "fe263d38",
   "metadata": {},
   "outputs": [
    {
     "ename": "TypeError",
     "evalue": "integer argument expected, got float",
     "output_type": "error",
     "traceback": [
      "\u001b[0;31m---------------------------------------------------------------------------\u001b[0m",
      "\u001b[0;31mTypeError\u001b[0m                                 Traceback (most recent call last)",
      "\u001b[0;32m<ipython-input-46-41340d5e79e4>\u001b[0m in \u001b[0;36m<module>\u001b[0;34m\u001b[0m\n\u001b[1;32m      2\u001b[0m \u001b[0;34m\u001b[0m\u001b[0m\n\u001b[1;32m      3\u001b[0m \u001b[0mnumbers\u001b[0m \u001b[0;34m=\u001b[0m \u001b[0marray\u001b[0m\u001b[0;34m(\u001b[0m\u001b[0;34m\"i\"\u001b[0m\u001b[0;34m,\u001b[0m\u001b[0;34m[\u001b[0m\u001b[0;36m1\u001b[0m\u001b[0;34m,\u001b[0m\u001b[0;36m2\u001b[0m\u001b[0;34m,\u001b[0m\u001b[0;36m3\u001b[0m\u001b[0;34m]\u001b[0m\u001b[0;34m)\u001b[0m\u001b[0;34m\u001b[0m\u001b[0;34m\u001b[0m\u001b[0m\n\u001b[0;32m----> 4\u001b[0;31m \u001b[0mnumbers\u001b[0m\u001b[0;34m[\u001b[0m\u001b[0;36m0\u001b[0m\u001b[0;34m]\u001b[0m \u001b[0;34m=\u001b[0m \u001b[0;36m6.0\u001b[0m\u001b[0;34m\u001b[0m\u001b[0;34m\u001b[0m\u001b[0m\n\u001b[0m",
      "\u001b[0;31mTypeError\u001b[0m: integer argument expected, got float"
     ]
    }
   ],
   "source": [
    "from array import array\n",
    "\n",
    "numbers = array(\"i\",[1,2,3])\n",
    "numbers[0] = 6.0"
   ]
  },
  {
   "cell_type": "markdown",
   "id": "0a91a4fa",
   "metadata": {},
   "source": [
    "## 14.Sets"
   ]
  },
  {
   "cell_type": "code",
   "execution_count": null,
   "id": "dec6ce02",
   "metadata": {},
   "outputs": [],
   "source": [
    "#it is a collection of no duplicates."
   ]
  },
  {
   "cell_type": "code",
   "execution_count": 47,
   "id": "9e002338",
   "metadata": {},
   "outputs": [
    {
     "name": "stdout",
     "output_type": "stream",
     "text": [
      "{1, 2, 3, 5, 6, 7}\n"
     ]
    }
   ],
   "source": [
    "numbers = [1,2,3,3,2,5,6,7,6]\n",
    "uniques = set(numbers)\n",
    "print(uniques)"
   ]
  },
  {
   "cell_type": "code",
   "execution_count": 49,
   "id": "63ef15b5",
   "metadata": {},
   "outputs": [
    {
     "data": {
      "text/plain": [
       "{1, 3, 4, 5, 9}"
      ]
     },
     "execution_count": 49,
     "metadata": {},
     "output_type": "execute_result"
    }
   ],
   "source": [
    "second = {1,4}\n",
    "second.add(9)\n",
    "second.add(5)\n",
    "second.add(3)\n",
    "second\n",
    "\n"
   ]
  },
  {
   "cell_type": "code",
   "execution_count": 50,
   "id": "21ee4563",
   "metadata": {},
   "outputs": [
    {
     "data": {
      "text/plain": [
       "{1, 4, 5, 7, 8}"
      ]
     },
     "execution_count": 50,
     "metadata": {},
     "output_type": "execute_result"
    }
   ],
   "source": [
    "second = {1,4,5,7,8,9}\n",
    "second.remove(9)\n",
    "second"
   ]
  },
  {
   "cell_type": "code",
   "execution_count": 53,
   "id": "092b2f47",
   "metadata": {},
   "outputs": [
    {
     "name": "stdout",
     "output_type": "stream",
     "text": [
      "[1, 2, 3, 3, 2, 5, 6, 7, 6]\n",
      "{1, 2, 3, 5, 6, 7}\n",
      "{1, 2, 3, 4, 5, 6, 7, 8, 9}\n",
      "{2, 3}\n",
      "{1, 5, 6, 7}\n"
     ]
    }
   ],
   "source": [
    "numbers = [1,2,3,3,2,5,6,7,6]\n",
    "print(numbers)\n",
    "first = set(numbers)\n",
    "print(first)\n",
    "second = {3,2,9,4,8}\n",
    "print(first | second)\n",
    "print(first & second)\n",
    "print(first - second)"
   ]
  },
  {
   "cell_type": "code",
   "execution_count": 57,
   "id": "ffe01b59",
   "metadata": {},
   "outputs": [
    {
     "name": "stdout",
     "output_type": "stream",
     "text": [
      "no\n"
     ]
    }
   ],
   "source": [
    "numbers = [1,2,3,3,2,5,6,7,6]\n",
    "first = set(numbers)\n",
    "if 9 in first:\n",
    "    print('yes')\n",
    "else:\n",
    "    print(\"no\")"
   ]
  },
  {
   "cell_type": "code",
   "execution_count": 58,
   "id": "12e5dc3c",
   "metadata": {},
   "outputs": [
    {
     "ename": "TypeError",
     "evalue": "'set' object is not subscriptable",
     "output_type": "error",
     "traceback": [
      "\u001b[0;31m---------------------------------------------------------------------------\u001b[0m",
      "\u001b[0;31mTypeError\u001b[0m                                 Traceback (most recent call last)",
      "\u001b[0;32m<ipython-input-58-8f8f5ac70460>\u001b[0m in \u001b[0;36m<module>\u001b[0;34m\u001b[0m\n\u001b[1;32m      1\u001b[0m \u001b[0mnumbers\u001b[0m \u001b[0;34m=\u001b[0m \u001b[0;34m[\u001b[0m\u001b[0;36m1\u001b[0m\u001b[0;34m,\u001b[0m\u001b[0;36m2\u001b[0m\u001b[0;34m,\u001b[0m\u001b[0;36m3\u001b[0m\u001b[0;34m,\u001b[0m\u001b[0;36m3\u001b[0m\u001b[0;34m,\u001b[0m\u001b[0;36m2\u001b[0m\u001b[0;34m,\u001b[0m\u001b[0;36m5\u001b[0m\u001b[0;34m,\u001b[0m\u001b[0;36m6\u001b[0m\u001b[0;34m,\u001b[0m\u001b[0;36m7\u001b[0m\u001b[0;34m,\u001b[0m\u001b[0;36m6\u001b[0m\u001b[0;34m]\u001b[0m\u001b[0;34m\u001b[0m\u001b[0;34m\u001b[0m\u001b[0m\n\u001b[1;32m      2\u001b[0m \u001b[0mfirst\u001b[0m \u001b[0;34m=\u001b[0m \u001b[0mset\u001b[0m\u001b[0;34m(\u001b[0m\u001b[0mnumbers\u001b[0m\u001b[0;34m)\u001b[0m\u001b[0;34m\u001b[0m\u001b[0;34m\u001b[0m\u001b[0m\n\u001b[0;32m----> 3\u001b[0;31m \u001b[0mprint\u001b[0m\u001b[0;34m(\u001b[0m\u001b[0mfirst\u001b[0m\u001b[0;34m[\u001b[0m\u001b[0;36m0\u001b[0m\u001b[0;34m]\u001b[0m\u001b[0;34m)\u001b[0m\u001b[0;34m\u001b[0m\u001b[0;34m\u001b[0m\u001b[0m\n\u001b[0m",
      "\u001b[0;31mTypeError\u001b[0m: 'set' object is not subscriptable"
     ]
    }
   ],
   "source": [
    "numbers = [1,2,3,3,2,5,6,7,6]\n",
    "first = set(numbers)\n",
    "print(first[0])"
   ]
  },
  {
   "cell_type": "markdown",
   "id": "77a3ad2c",
   "metadata": {},
   "source": [
    "## 15.Dictionaries"
   ]
  },
  {
   "cell_type": "code",
   "execution_count": null,
   "id": "cb512cb5",
   "metadata": {},
   "outputs": [],
   "source": [
    "# Dictionaries is basiccally a collection of key value pairs. We use it to map a key to a value. \n",
    "# Ecxample-- phone book \n",
    "#         name--phone number"
   ]
  },
  {
   "cell_type": "code",
   "execution_count": 59,
   "id": "f881139e",
   "metadata": {},
   "outputs": [
    {
     "name": "stdout",
     "output_type": "stream",
     "text": [
      "{'x': 1, 'y': 2}\n"
     ]
    }
   ],
   "source": [
    "point = {\"x\": 1, \"y\": 2} #but this is long approach\n",
    "\n",
    "# we can write using dict function\n",
    "point = dict(x=1,y=2)\n",
    "print(point)\n"
   ]
  },
  {
   "cell_type": "code",
   "execution_count": 60,
   "id": "052bb9ac",
   "metadata": {},
   "outputs": [
    {
     "name": "stdout",
     "output_type": "stream",
     "text": [
      "{'x': 10, 'y': 2, 'z': 20}\n"
     ]
    }
   ],
   "source": [
    "point = dict(x=1,y=2)\n",
    "point[\"x\"]=10\n",
    "point[\"z\"]=20\n",
    "print(point)\n"
   ]
  },
  {
   "cell_type": "code",
   "execution_count": 61,
   "id": "e2d81173",
   "metadata": {},
   "outputs": [
    {
     "ename": "KeyError",
     "evalue": "'a'",
     "output_type": "error",
     "traceback": [
      "\u001b[0;31m---------------------------------------------------------------------------\u001b[0m",
      "\u001b[0;31mKeyError\u001b[0m                                  Traceback (most recent call last)",
      "\u001b[0;32m<ipython-input-61-506fbd571697>\u001b[0m in \u001b[0;36m<module>\u001b[0;34m\u001b[0m\n\u001b[1;32m      2\u001b[0m \u001b[0mpoint\u001b[0m\u001b[0;34m[\u001b[0m\u001b[0;34m\"x\"\u001b[0m\u001b[0;34m]\u001b[0m\u001b[0;34m=\u001b[0m\u001b[0;36m10\u001b[0m\u001b[0;34m\u001b[0m\u001b[0;34m\u001b[0m\u001b[0m\n\u001b[1;32m      3\u001b[0m \u001b[0mpoint\u001b[0m\u001b[0;34m[\u001b[0m\u001b[0;34m\"z\"\u001b[0m\u001b[0;34m]\u001b[0m\u001b[0;34m=\u001b[0m\u001b[0;36m20\u001b[0m\u001b[0;34m\u001b[0m\u001b[0;34m\u001b[0m\u001b[0m\n\u001b[0;32m----> 4\u001b[0;31m \u001b[0mprint\u001b[0m\u001b[0;34m(\u001b[0m\u001b[0mpoint\u001b[0m\u001b[0;34m[\u001b[0m\u001b[0;34m\"a\"\u001b[0m\u001b[0;34m]\u001b[0m\u001b[0;34m)\u001b[0m\u001b[0;34m\u001b[0m\u001b[0;34m\u001b[0m\u001b[0m\n\u001b[0m",
      "\u001b[0;31mKeyError\u001b[0m: 'a'"
     ]
    }
   ],
   "source": [
    "point = dict(x=1,y=2)\n",
    "point[\"x\"]=10\n",
    "point[\"z\"]=20\n",
    "print(point[\"a\"])\n"
   ]
  },
  {
   "cell_type": "code",
   "execution_count": 62,
   "id": "62109012",
   "metadata": {},
   "outputs": [
    {
     "name": "stdout",
     "output_type": "stream",
     "text": [
      "None\n"
     ]
    }
   ],
   "source": [
    "point = dict(x=1,y=2)\n",
    "point[\"x\"]=10\n",
    "point[\"z\"]=20\n",
    "print(point.get(\"a\"))\n"
   ]
  },
  {
   "cell_type": "code",
   "execution_count": 63,
   "id": "7533fcda",
   "metadata": {},
   "outputs": [
    {
     "name": "stdout",
     "output_type": "stream",
     "text": [
      "{'y': 2, 'z': 20}\n"
     ]
    }
   ],
   "source": [
    "point = dict(x=1,y=2)\n",
    "point[\"x\"]=10\n",
    "point[\"z\"]=20\n",
    "del point[\"x\"]\n",
    "print(point)"
   ]
  },
  {
   "cell_type": "code",
   "execution_count": 64,
   "id": "42c44afd",
   "metadata": {},
   "outputs": [
    {
     "name": "stdout",
     "output_type": "stream",
     "text": [
      "('x', 10)\n",
      "('y', 2)\n",
      "('z', 20)\n"
     ]
    }
   ],
   "source": [
    "point = dict(x=1,y=2)\n",
    "point[\"x\"]=10\n",
    "point[\"z\"]=20\n",
    "\n",
    "for x in point.items():\n",
    "    print(x)"
   ]
  },
  {
   "cell_type": "markdown",
   "id": "a3d1279f",
   "metadata": {},
   "source": [
    "## 16.Dictionary Comprehension"
   ]
  },
  {
   "cell_type": "code",
   "execution_count": 65,
   "id": "78c75303",
   "metadata": {},
   "outputs": [
    {
     "name": "stdout",
     "output_type": "stream",
     "text": [
      "[0]\n",
      "[0, 2]\n",
      "[0, 2, 4]\n",
      "[0, 2, 4, 6]\n",
      "[0, 2, 4, 6, 8]\n"
     ]
    }
   ],
   "source": [
    "values = []\n",
    "for x in range(5):\n",
    "    values.append(x * 2)\n",
    "    print(values)"
   ]
  },
  {
   "cell_type": "code",
   "execution_count": 66,
   "id": "a10fcf74",
   "metadata": {},
   "outputs": [
    {
     "name": "stdout",
     "output_type": "stream",
     "text": [
      "{0, 2, 4, 6, 8}\n"
     ]
    }
   ],
   "source": [
    "values = {x * 2 for x in range(5)}\n",
    "print(values)"
   ]
  },
  {
   "cell_type": "code",
   "execution_count": 67,
   "id": "0953c97b",
   "metadata": {},
   "outputs": [
    {
     "name": "stdout",
     "output_type": "stream",
     "text": [
      "{0: 0, 1: 2, 2: 4, 3: 6, 4: 8}\n"
     ]
    }
   ],
   "source": [
    "values = {x: x * 2 for x in range(5)}\n",
    "print(values)"
   ]
  },
  {
   "cell_type": "markdown",
   "id": "e44847fd",
   "metadata": {},
   "source": [
    "## 17.Unpacking Operator"
   ]
  },
  {
   "cell_type": "code",
   "execution_count": 68,
   "id": "10a35c77",
   "metadata": {},
   "outputs": [
    {
     "name": "stdout",
     "output_type": "stream",
     "text": [
      "1 2 3 4\n",
      "[1, 2, 3, 4]\n"
     ]
    }
   ],
   "source": [
    "numbers = [1,2,3,4]\n",
    "print(*numbers)\n",
    "print(numbers)"
   ]
  },
  {
   "cell_type": "code",
   "execution_count": 69,
   "id": "f17d1b69",
   "metadata": {},
   "outputs": [
    {
     "name": "stdout",
     "output_type": "stream",
     "text": [
      "[0, 1, 2, 3, 4, 'h', 'e', 'l', 'l', 'o']\n"
     ]
    }
   ],
   "source": [
    "values = list(range(5))\n",
    "values = [*range(5),*'hello']\n",
    "print(values)"
   ]
  },
  {
   "cell_type": "code",
   "execution_count": null,
   "id": "36ef1d18",
   "metadata": {},
   "outputs": [],
   "source": []
  }
 ],
 "metadata": {
  "kernelspec": {
   "display_name": "Python 3",
   "language": "python",
   "name": "python3"
  },
  "language_info": {
   "codemirror_mode": {
    "name": "ipython",
    "version": 3
   },
   "file_extension": ".py",
   "mimetype": "text/x-python",
   "name": "python",
   "nbconvert_exporter": "python",
   "pygments_lexer": "ipython3",
   "version": "3.8.8"
  }
 },
 "nbformat": 4,
 "nbformat_minor": 5
}
