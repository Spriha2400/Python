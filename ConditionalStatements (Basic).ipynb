{
 "cells": [
  {
   "cell_type": "markdown",
   "id": "a9545c89",
   "metadata": {},
   "source": [
    "# Conditional Statements In Python "
   ]
  },
  {
   "cell_type": "code",
   "execution_count": null,
   "id": "c2b6929a",
   "metadata": {},
   "outputs": [],
   "source": [
    "# python supports three type of conditional statements \n",
    "#(i) If statement\n",
    "#(ii) If-else statement\n",
    "#(iii) elif Statement"
   ]
  },
  {
   "cell_type": "markdown",
   "id": "c9d37080",
   "metadata": {},
   "source": [
    "# If statement"
   ]
  },
  {
   "cell_type": "code",
   "execution_count": 1,
   "id": "c89e96ad",
   "metadata": {},
   "outputs": [
    {
     "name": "stdout",
     "output_type": "stream",
     "text": [
      "a is even.\n"
     ]
    }
   ],
   "source": [
    "#Exampl-1\n",
    "a=22\n",
    "if a%2==0:\n",
    "    print(\"a is even.\")"
   ]
  },
  {
   "cell_type": "code",
   "execution_count": 2,
   "id": "46b44f06",
   "metadata": {},
   "outputs": [
    {
     "name": "stdout",
     "output_type": "stream",
     "text": [
      "a is greater than or equals to 20\n"
     ]
    }
   ],
   "source": [
    "#Example-2\n",
    "a=22\n",
    "if a>=20:\n",
    "    print(\"a is greater than or equals to 20\")"
   ]
  },
  {
   "cell_type": "markdown",
   "id": "9a308438",
   "metadata": {},
   "source": [
    "# If-else statement"
   ]
  },
  {
   "cell_type": "code",
   "execution_count": 3,
   "id": "10cfcc3c",
   "metadata": {},
   "outputs": [
    {
     "name": "stdout",
     "output_type": "stream",
     "text": [
      "Enter the number:34\n",
      "a is even.\n"
     ]
    }
   ],
   "source": [
    "#Example-1\n",
    "a=int(input(\"Enter the number:\"))\n",
    "if a%2==0:\n",
    "    print(\"a is even.\")\n",
    "else:\n",
    "    print(\"a is odd .\")"
   ]
  },
  {
   "cell_type": "code",
   "execution_count": 4,
   "id": "d0a554eb",
   "metadata": {},
   "outputs": [
    {
     "name": "stdout",
     "output_type": "stream",
     "text": [
      "Enter the first number:10\n",
      "Enter the second number:20\n",
      "b is greater.\n"
     ]
    }
   ],
   "source": [
    "#Example-2\n",
    "a=int(input(\"Enter the first number:\"))\n",
    "b=int(input(\"Enter the second number:\"))\n",
    "if (a>b):\n",
    "    print(\"a is greater.\")\n",
    "else:\n",
    "    print(\"b is greater.\")"
   ]
  },
  {
   "cell_type": "markdown",
   "id": "1619626f",
   "metadata": {},
   "source": [
    "# elif statement"
   ]
  },
  {
   "cell_type": "code",
   "execution_count": 6,
   "id": "d0366e77",
   "metadata": {},
   "outputs": [
    {
     "name": "stdout",
     "output_type": "stream",
     "text": [
      "Enter the number:3\n",
      "a is not equals to 10,50,100.\n"
     ]
    }
   ],
   "source": [
    "#Example-1\n",
    "a=int(input(\"Enter the number:\"))\n",
    "if a==10:\n",
    "    print(\"a is equals to 10.\")\n",
    "elif a==50:\n",
    "    print(\"a is equals to 50.\")\n",
    "elif a==100:\n",
    "    print(\"a is equals to 100.\")\n",
    "else:\n",
    "    print(\"a is not equals to 10,50,100.\")    "
   ]
  },
  {
   "cell_type": "code",
   "execution_count": 7,
   "id": "a3109a38",
   "metadata": {},
   "outputs": [
    {
     "name": "stdout",
     "output_type": "stream",
     "text": [
      "Enter the number:10\n",
      "Enter the number:20\n",
      "Enter the number:30\n",
      "Enter the number:77\n",
      "Enter the number:98\n",
      "e is grater.\n"
     ]
    }
   ],
   "source": [
    "#Example-2\n",
    "a=int(input(\"Enter the number:\"))\n",
    "b=int(input(\"Enter the number:\"))\n",
    "c=int(input(\"Enter the number:\"))\n",
    "d=int(input(\"Enter the number:\"))\n",
    "e=int(input(\"Enter the number:\"))\n",
    "if (a>b and a>c and a>d and a>e):\n",
    "    print(\"a is greater.\")\n",
    "elif (b>a and b>c and b>d and b>e):\n",
    "    print(\"b is greater.\")\n",
    "elif (c>a and c>b and c>d and c>e):\n",
    "    print(\"c is greater.\")\n",
    "elif (d>a and d>b and d>c and d>e):\n",
    "    print(\"d is greater.\")  \n",
    "else:\n",
    "    print(\"e is grater.\")"
   ]
  }
 ],
 "metadata": {
  "kernelspec": {
   "display_name": "Python 3",
   "language": "python",
   "name": "python3"
  },
  "language_info": {
   "codemirror_mode": {
    "name": "ipython",
    "version": 3
   },
   "file_extension": ".py",
   "mimetype": "text/x-python",
   "name": "python",
   "nbconvert_exporter": "python",
   "pygments_lexer": "ipython3",
   "version": "3.8.8"
  }
 },
 "nbformat": 4,
 "nbformat_minor": 5
}
