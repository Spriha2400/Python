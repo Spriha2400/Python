{
 "cells": [
  {
   "cell_type": "markdown",
   "metadata": {},
   "source": [
    "# 3. Control Flow"
   ]
  },
  {
   "cell_type": "markdown",
   "metadata": {},
   "source": [
    "## 1. Comparison Operators"
   ]
  },
  {
   "cell_type": "code",
   "execution_count": null,
   "metadata": {},
   "outputs": [],
   "source": [
    "10 > 3 # Here we get boolean value\n",
    "10 >= 3\n",
    "10 < 20\n",
    "10 <= 20\n",
    "10 == 10\n"
   ]
  },
  {
   "cell_type": "code",
   "execution_count": null,
   "metadata": {},
   "outputs": [],
   "source": [
    "10 == \"10\" "
   ]
  },
  {
   "cell_type": "code",
   "execution_count": null,
   "metadata": {},
   "outputs": [],
   "source": [
    "10 != '10'"
   ]
  },
  {
   "cell_type": "code",
   "execution_count": null,
   "metadata": {},
   "outputs": [],
   "source": [
    "'bag' > 'apple'"
   ]
  },
  {
   "cell_type": "code",
   "execution_count": 33,
   "metadata": {},
   "outputs": [
    {
     "data": {
      "text/plain": [
       "True"
      ]
     },
     "execution_count": 33,
     "metadata": {},
     "output_type": "execute_result"
    }
   ],
   "source": [
    "'pool' > '' # False beacuse every character has a numeric representation. lets see next step"
   ]
  },
  {
   "cell_type": "code",
   "execution_count": 28,
   "metadata": {},
   "outputs": [
    {
     "data": {
      "text/plain": [
       "115"
      ]
     },
     "execution_count": 28,
     "metadata": {},
     "output_type": "execute_result"
    }
   ],
   "source": [
    "ord('s')"
   ]
  },
  {
   "cell_type": "code",
   "execution_count": null,
   "metadata": {},
   "outputs": [],
   "source": []
  },
  {
   "cell_type": "code",
   "execution_count": 25,
   "metadata": {},
   "outputs": [
    {
     "data": {
      "text/plain": [
       "116"
      ]
     },
     "execution_count": 25,
     "metadata": {},
     "output_type": "execute_result"
    }
   ],
   "source": [
    "ord('t') #converts a character into its Unicode code value.\n",
    "         #This method accepts a single character."
   ]
  },
  {
   "cell_type": "code",
   "execution_count": null,
   "metadata": {},
   "outputs": [],
   "source": [
    "ord('B')"
   ]
  },
  {
   "cell_type": "code",
   "execution_count": null,
   "metadata": {},
   "outputs": [],
   "source": [
    "'bag' > 'BAG'"
   ]
  },
  {
   "cell_type": "code",
   "execution_count": null,
   "metadata": {},
   "outputs": [],
   "source": [
    "'bag' < 'BAG'"
   ]
  },
  {
   "cell_type": "markdown",
   "metadata": {},
   "source": [
    "## 2. Conditional Statement"
   ]
  },
  {
   "cell_type": "code",
   "execution_count": null,
   "metadata": {},
   "outputs": [],
   "source": [
    "temperature = int(input(' please add the value of temp: '))\n",
    "if temperature > 30:\n",
    "    print(\"it's very hot day\")\n",
    "    print(\"it is warm\")\n",
    "    print(\"drink water\")\n",
    "print(\"done\")\n",
    "print(\"it's ohk\")"
   ]
  },
  {
   "cell_type": "code",
   "execution_count": null,
   "metadata": {},
   "outputs": [],
   "source": [
    "temperature = int(input(' please add the value of temp: '))\n",
    "if temperature > 30:\n",
    "    print(\"it is warm\")\n",
    "    print(\"drink water\")\n",
    "elif temperature > 20:\n",
    "    print(\"it is nice day\")\n",
    "elif temperature == 5:\n",
    "    print('its very cold day')\n",
    "print(\"done\")"
   ]
  },
  {
   "cell_type": "code",
   "execution_count": null,
   "metadata": {},
   "outputs": [],
   "source": [
    "temperature = 18\n",
    "if temperature > 30:\n",
    "    print(\"it is warm\")\n",
    "    print(\"drink water\")\n",
    "elif temperature > 20:\n",
    "    print(\"it is nice day\")\n",
    "else:\n",
    "    print(\"its ohk\")\n",
    "print(\"done\")"
   ]
  },
  {
   "cell_type": "markdown",
   "metadata": {},
   "source": [
    "## 3. Ternary Operator"
   ]
  },
  {
   "cell_type": "code",
   "execution_count": null,
   "metadata": {},
   "outputs": [],
   "source": [
    "temperature = 18\n",
    "if temperature > 20:\n",
    "    print('its a nyc day')\n",
    "else:\n",
    "    print(\"its a cold day\")"
   ]
  },
  {
   "cell_type": "code",
   "execution_count": null,
   "metadata": {},
   "outputs": [],
   "source": [
    "temperature = 18\n",
    "message = \"it is a nice day\" if temperature >= 20 else \"its a cold day\"\n",
    "print(message)"
   ]
  },
  {
   "cell_type": "code",
   "execution_count": null,
   "metadata": {},
   "outputs": [],
   "source": [
    "age = 13\n",
    "message = \"yes am eligible for vote\" if age >= 18 else \"am not eligible for vote\"\n",
    "print(message)"
   ]
  },
  {
   "cell_type": "code",
   "execution_count": null,
   "metadata": {},
   "outputs": [],
   "source": [
    "age = 22\n",
    "if age >= 18:\n",
    "    print(\"person is  eligible for voting\")\n",
    "else:\n",
    "    print(\"Person is not eligible for voting\")"
   ]
  },
  {
   "cell_type": "code",
   "execution_count": null,
   "metadata": {},
   "outputs": [],
   "source": [
    "age = 16\n",
    "condition = \"person is eligible for voting\" if age >= 18 else \"person is not eligible for voting\"\n",
    "print(condition)"
   ]
  },
  {
   "cell_type": "markdown",
   "metadata": {},
   "source": [
    "## 4. Logical Operators"
   ]
  },
  {
   "cell_type": "code",
   "execution_count": null,
   "metadata": {},
   "outputs": [],
   "source": [
    "high_income = True\n",
    "good_credit = True\n",
    "\n",
    "if high_income and good_credit:\n",
    "    print(\"eligible for loan\")\n",
    "else:\n",
    "    print(\"not eligible for loan\")"
   ]
  },
  {
   "cell_type": "code",
   "execution_count": null,
   "metadata": {},
   "outputs": [],
   "source": [
    "high_income = False\n",
    "good_credit = False\n",
    "\n",
    "if high_income or good_credit:\n",
    "    print(\"eligible for loan\")\n",
    "else:\n",
    "    print(\"not eligible for loan\")"
   ]
  },
  {
   "cell_type": "code",
   "execution_count": null,
   "metadata": {},
   "outputs": [],
   "source": [
    "high_income = True\n",
    "good_credit = False\n",
    "student = True\n",
    "\n",
    "if not good_credit:\n",
    "    print(\"eligible for loan\")\n",
    "elif student:\n",
    "    print(\"not eligible for loan\")\n",
    "elif high_income:\n",
    "    print('its ohk')\n",
    "    \n",
    "print(\"its is not ohk\")"
   ]
  },
  {
   "cell_type": "code",
   "execution_count": null,
   "metadata": {},
   "outputs": [],
   "source": [
    "high_income = True\n",
    "good_credit = False\n",
    "student = True\n",
    "\n",
    "if (high_income or good_credit) and not student:\n",
    "    print(\"eligible for loan\")\n",
    "else:\n",
    "    print(\"not eligible for loan\")"
   ]
  },
  {
   "cell_type": "markdown",
   "metadata": {},
   "source": [
    "## 5. Short-circuit Evaluation"
   ]
  },
  {
   "cell_type": "code",
   "execution_count": null,
   "metadata": {},
   "outputs": [],
   "source": [
    "high_income = True\n",
    "good_credit = False\n",
    "student = True\n",
    "\n",
    "if good_credit or not high_income or  student:\n",
    "    print(\"eligible for loan\")\n",
    "#Here if any one of the statement is true then the python interpreter stop excute the whole code."
   ]
  },
  {
   "cell_type": "code",
   "execution_count": null,
   "metadata": {},
   "outputs": [],
   "source": [
    "high_income = True\n",
    "good_credit = False\n",
    "student = True\n",
    "\n",
    "if high_income and not good_credit and  student:\n",
    "    print(\"eligible for loan\")\n",
    "#Here if any one of the statement is false then the python interpreter will stop the excute the whole program."
   ]
  },
  {
   "cell_type": "markdown",
   "metadata": {},
   "source": [
    "## 6. Chaining Comparion Operators"
   ]
  },
  {
   "cell_type": "code",
   "execution_count": null,
   "metadata": {},
   "outputs": [],
   "source": [
    "#Age should be in between 18 and 65\n",
    "age = int(input(\" enter a number : \"))\n",
    "if age >= 18 and age < 65:\n",
    "    print(\"eligible\")"
   ]
  },
  {
   "cell_type": "code",
   "execution_count": null,
   "metadata": {},
   "outputs": [],
   "source": [
    "#Age should be in between 18 and 65\n",
    "age = 12\n",
    "if 18 <= age < 65: # This is called chaining comparison \n",
    "    print(\"eligible\")"
   ]
  },
  {
   "cell_type": "markdown",
   "metadata": {},
   "source": [
    "## 7. Quiz"
   ]
  },
  {
   "cell_type": "code",
   "execution_count": 34,
   "metadata": {},
   "outputs": [
    {
     "name": "stdout",
     "output_type": "stream",
     "text": [
      "c\n"
     ]
    }
   ],
   "source": [
    "if 10 == '10':\n",
    "    print('a')\n",
    "elif 'bag' > 'apple' and 'bag' > 'cat':\n",
    "    print('b')\n",
    "else:\n",
    "    print('c')\n",
    "    "
   ]
  },
  {
   "cell_type": "markdown",
   "metadata": {},
   "source": [
    "## 8. For Loops"
   ]
  },
  {
   "cell_type": "code",
   "execution_count": 36,
   "metadata": {},
   "outputs": [
    {
     "name": "stdout",
     "output_type": "stream",
     "text": [
      "attempt 0\n",
      "attempt 1\n",
      "attempt 2\n",
      "attempt 3\n"
     ]
    }
   ],
   "source": [
    "for number in range(4):\n",
    "    print('attempt', number)"
   ]
  },
  {
   "cell_type": "code",
   "execution_count": null,
   "metadata": {},
   "outputs": [],
   "source": [
    "type(number)"
   ]
  },
  {
   "cell_type": "code",
   "execution_count": 37,
   "metadata": {},
   "outputs": [
    {
     "name": "stdout",
     "output_type": "stream",
     "text": [
      "attempt 1\n",
      "attempt 2\n",
      "attempt 3\n"
     ]
    }
   ],
   "source": [
    "for number in range(3):\n",
    "    print('attempt', number + 1)"
   ]
  },
  {
   "cell_type": "code",
   "execution_count": 38,
   "metadata": {},
   "outputs": [
    {
     "name": "stdout",
     "output_type": "stream",
     "text": [
      "attempt 1 .\n",
      "attempt 2 ..\n",
      "attempt 3 ...\n"
     ]
    }
   ],
   "source": [
    "for number in range(3):\n",
    "    print('attempt', number + 1,(number + 1) * '.')"
   ]
  },
  {
   "cell_type": "code",
   "execution_count": 39,
   "metadata": {},
   "outputs": [
    {
     "name": "stdout",
     "output_type": "stream",
     "text": [
      "attempt 1 .\n",
      "attempt 2 ..\n",
      "attempt 3 ...\n"
     ]
    }
   ],
   "source": [
    "for number in range(1, 4):\n",
    "    print('attempt',number ,number * '.')"
   ]
  },
  {
   "cell_type": "code",
   "execution_count": 85,
   "metadata": {},
   "outputs": [
    {
     "data": {
      "text/plain": [
       "81.0"
      ]
     },
     "execution_count": 85,
     "metadata": {},
     "output_type": "execute_result"
    }
   ],
   "source": [
    "import math\n",
    "math.pow(3,4)"
   ]
  },
  {
   "cell_type": "code",
   "execution_count": 107,
   "metadata": {},
   "outputs": [
    {
     "name": "stdout",
     "output_type": "stream",
     "text": [
      "2\n",
      "4\n",
      "4\n",
      "256\n",
      "6\n",
      "46656\n",
      "8\n",
      "16777216\n"
     ]
    }
   ],
   "source": [
    "for num in range(2,10,2):\n",
    "    print(num)\n",
    "    num = num**num\n",
    "    print(num)"
   ]
  },
  {
   "cell_type": "markdown",
   "metadata": {},
   "source": [
    "## 9. For Else"
   ]
  },
  {
   "cell_type": "code",
   "execution_count": 52,
   "metadata": {},
   "outputs": [
    {
     "name": "stdout",
     "output_type": "stream",
     "text": [
      "attempt\n",
      "Successful\n"
     ]
    }
   ],
   "source": [
    "successful = True\n",
    "for number in range(4):\n",
    "    print('attempt')\n",
    "    if successful:\n",
    "        print('Successful')\n",
    "        break  \n",
    "        "
   ]
  },
  {
   "cell_type": "code",
   "execution_count": 47,
   "metadata": {},
   "outputs": [
    {
     "name": "stdout",
     "output_type": "stream",
     "text": [
      "attempt\n",
      "attempt\n",
      "attempt\n",
      "attempted 3 times and failed\n"
     ]
    }
   ],
   "source": [
    "successful = False\n",
    "for number in range(3):\n",
    "    print('attempt')\n",
    "    if successful:\n",
    "        print('Successful')\n",
    "        break\n",
    "else:\n",
    "    print('attempted 3 times and failed')\n",
    "    \n",
    "    "
   ]
  },
  {
   "cell_type": "code",
   "execution_count": 57,
   "metadata": {},
   "outputs": [
    {
     "name": "stdout",
     "output_type": "stream",
     "text": [
      "attempt\n",
      "Successful\n",
      "attempted 3 times and failed\n"
     ]
    }
   ],
   "source": [
    "successful = True\n",
    "for number in range(3):\n",
    "    print('attempt')\n",
    "    if successful:\n",
    "        print('Successful')\n",
    "        break\n",
    "\n",
    "        \n",
    "print('attempted 3 times and failed')\n",
    "    "
   ]
  },
  {
   "cell_type": "markdown",
   "metadata": {},
   "source": [
    "## 10. Nested Loops"
   ]
  },
  {
   "cell_type": "code",
   "execution_count": 59,
   "metadata": {},
   "outputs": [
    {
     "name": "stdout",
     "output_type": "stream",
     "text": [
      "(0, 0)\n",
      "(0, 1)\n",
      "(0, 2)\n",
      "(1, 0)\n",
      "(1, 1)\n",
      "(1, 2)\n",
      "(2, 0)\n",
      "(2, 1)\n",
      "(2, 2)\n"
     ]
    }
   ],
   "source": [
    "for x in range(3):\n",
    "    for y in range(3):\n",
    "        print(f\"({x}, {y})\")"
   ]
  },
  {
   "cell_type": "markdown",
   "metadata": {},
   "source": [
    "## 11. Iterables"
   ]
  },
  {
   "cell_type": "code",
   "execution_count": 60,
   "metadata": {},
   "outputs": [
    {
     "name": "stdout",
     "output_type": "stream",
     "text": [
      "p\n",
      "y\n",
      "t\n",
      "h\n",
      "o\n",
      "n\n"
     ]
    }
   ],
   "source": [
    "for x in 'python':\n",
    "    print(x)"
   ]
  },
  {
   "cell_type": "code",
   "execution_count": 61,
   "metadata": {},
   "outputs": [
    {
     "name": "stdout",
     "output_type": "stream",
     "text": [
      "1\n",
      "2\n",
      "3\n",
      "4\n",
      "5\n",
      "6\n",
      "7\n"
     ]
    }
   ],
   "source": [
    "for x in [1,2,3,4,5,6,7]:\n",
    "    print(x)"
   ]
  },
  {
   "cell_type": "code",
   "execution_count": 62,
   "metadata": {},
   "outputs": [
    {
     "name": "stdout",
     "output_type": "stream",
     "text": [
      "0\n",
      "1\n",
      "2\n",
      "3\n",
      "4\n",
      "5\n",
      "6\n",
      "7\n",
      "8\n",
      "9\n"
     ]
    }
   ],
   "source": [
    "for x in range(10):\n",
    "    print(x)"
   ]
  },
  {
   "cell_type": "markdown",
   "metadata": {},
   "source": [
    "## 12. While Loops"
   ]
  },
  {
   "cell_type": "code",
   "execution_count": 65,
   "metadata": {
    "scrolled": true
   },
   "outputs": [
    {
     "name": "stdout",
     "output_type": "stream",
     "text": [
      "100\n",
      "50\n",
      "25\n",
      "12\n",
      "6\n",
      "3\n",
      "1\n"
     ]
    }
   ],
   "source": [
    "number = 100\n",
    "while number > 0:\n",
    "    print(number)\n",
    "    number //= 2"
   ]
  },
  {
   "cell_type": "code",
   "execution_count": 70,
   "metadata": {
    "scrolled": true
   },
   "outputs": [
    {
     "name": "stdout",
     "output_type": "stream",
     "text": [
      "1\n",
      "2\n",
      "4\n",
      "5\n",
      "6\n"
     ]
    }
   ],
   "source": [
    "i = 0\n",
    "while i < 6:\n",
    "    i += 1\n",
    "    if i == 3:\n",
    "        continue\n",
    "    print(i)"
   ]
  },
  {
   "cell_type": "code",
   "execution_count": 71,
   "metadata": {},
   "outputs": [
    {
     "name": "stdout",
     "output_type": "stream",
     "text": [
      "1\n",
      "2\n",
      "4\n",
      "5\n",
      "6\n",
      "7\n"
     ]
    }
   ],
   "source": [
    "i = 0 \n",
    "while i < 7:\n",
    "    i += 1\n",
    "    if i == 3:\n",
    "        continue\n",
    "    print(i)   \n",
    "        "
   ]
  },
  {
   "cell_type": "code",
   "execution_count": 72,
   "metadata": {},
   "outputs": [
    {
     "name": "stdout",
     "output_type": "stream",
     "text": [
      "1\n",
      "2\n",
      "3\n",
      "4\n",
      "5\n",
      "i is no longer less than 6\n"
     ]
    }
   ],
   "source": [
    "i = 1\n",
    "while i < 6:\n",
    "    print(i)\n",
    "    i += 1\n",
    "else:\n",
    "    print(\"i is no longer less than 6\")\n"
   ]
  },
  {
   "cell_type": "code",
   "execution_count": null,
   "metadata": {},
   "outputs": [],
   "source": [
    " "
   ]
  }
 ],
 "metadata": {
  "kernelspec": {
   "display_name": "Python 3",
   "language": "python",
   "name": "python3"
  },
  "language_info": {
   "codemirror_mode": {
    "name": "ipython",
    "version": 3
   },
   "file_extension": ".py",
   "mimetype": "text/x-python",
   "name": "python",
   "nbconvert_exporter": "python",
   "pygments_lexer": "ipython3",
   "version": "3.7.6"
  }
 },
 "nbformat": 4,
 "nbformat_minor": 5
}
