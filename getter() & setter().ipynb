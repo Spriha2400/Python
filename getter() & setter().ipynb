{
 "cells": [
  {
   "cell_type": "code",
   "execution_count": 3,
   "id": "b6da3759",
   "metadata": {},
   "outputs": [
    {
     "name": "stdout",
     "output_type": "stream",
     "text": [
      "Total salary of the employee is : 6000\n",
      "The salary of the employee is : 5600\n",
      "After the change of the salarybonus total salarybonus is : 200\n"
     ]
    }
   ],
   "source": [
    "#explanation of getter()&setter()\n",
    "class Employee:\n",
    "    company=\"Bharat Gas\"\n",
    "    salary=5600\n",
    "    salarybonus=400\n",
    "    \n",
    "    @property      #property decorator is also called getter()\n",
    "    def totalsalary(self):\n",
    "        return self.salary+ self.salarybonus\n",
    "    \n",
    "    @totalsalary.setter     #we can set the value using setter()\n",
    "    def totalsalary(self,val):\n",
    "        self.salarybonus=val-self.salary\n",
    "    \n",
    "e=Employee()\n",
    "print(\"Total salary of the employee is :\",e.totalsalary)\n",
    "e.totalsalary=5800\n",
    "print(\"The salary of the employee is :\",e.salary)\n",
    "print(\"After the change of the salarybonus total salarybonus is :\",e.salarybonus)"
   ]
  }
 ],
 "metadata": {
  "kernelspec": {
   "display_name": "Python 3",
   "language": "python",
   "name": "python3"
  },
  "language_info": {
   "codemirror_mode": {
    "name": "ipython",
    "version": 3
   },
   "file_extension": ".py",
   "mimetype": "text/x-python",
   "name": "python",
   "nbconvert_exporter": "python",
   "pygments_lexer": "ipython3",
   "version": "3.8.8"
  }
 },
 "nbformat": 4,
 "nbformat_minor": 5
}
