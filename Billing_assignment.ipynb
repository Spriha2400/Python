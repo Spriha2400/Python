{
  "nbformat": 4,
  "nbformat_minor": 5,
  "metadata": {
    "kernelspec": {
      "display_name": "Python 3",
      "language": "python",
      "name": "python3"
    },
    "language_info": {
      "codemirror_mode": {
        "name": "ipython",
        "version": 3
      },
      "file_extension": ".py",
      "mimetype": "text/x-python",
      "name": "python",
      "nbconvert_exporter": "python",
      "pygments_lexer": "ipython3",
      "version": "3.8.11"
    },
    "colab": {
      "name": "Billing_Program.ipynb",
      "provenance": [],
      "include_colab_link": true
    }
  },
  "cells": [
    {
      "cell_type": "markdown",
      "metadata": {
        "id": "view-in-github",
        "colab_type": "text"
      },
      "source": [
        "<a href=\"https://colab.research.google.com/github/Prem-Jain/Python/blob/main/Billing_Program.ipynb\" target=\"_parent\"><img src=\"https://colab.research.google.com/assets/colab-badge.svg\" alt=\"Open In Colab\"/></a>"
      ]
    },
    {
      "cell_type": "code",
      "metadata": {
        "id": "efa7d09f"
      },
      "source": [
        "menu_dict = dict()\n",
        "def edit_menu() :\n",
        "    print(\"1.Add items\\n2.Create new menu\")\n",
        "    edit_input = int(input(\"Enter your choice : \"))\n",
        "    if edit_input == 1 : \n",
        "        fmenu = open('E:\\Divine\\menu.txt','a')\n",
        "        items = int(input(\"Enter the number of items you want to add : \"))\n",
        "        for i in range(items) :\n",
        "            item_menu = input(\"Enter item : \")\n",
        "            price = float(input(\"Enter the price of the item : \"))\n",
        "            menu_dict[i + 1] = [item_menu, price]\n",
        "            fmenu.write(f'{i+1:<5} {item_menu:^20} {price:>10}\"\\n\"')\n",
        "        fmenu.close()\n",
        "    elif edit_input == 2 :\n",
        "        fmenu = open('E:\\Divine\\menu.txt', 'w')\n",
        "        items = int(input(\"Enter the number of items you want to add : \"))\n",
        "        for i in range(items) :\n",
        "            item_menu = input(\"Enter item : \")\n",
        "            price = float(input(\"Enter the price of the item : \"))\n",
        "            menu_dict[i+1] = [item_menu, price]\n",
        "            fmenu.write(f'{i+1:<5} {item_menu:^20} {price:>10}\\n')\n",
        "        fmenu.close()"
      ],
      "id": "efa7d09f",
      "execution_count": 1,
      "outputs": []
    },
    {
      "cell_type": "code",
      "metadata": {
        "id": "681b032e"
      },
      "source": [
        "def order() : \n",
        "    forder = open('E:\\Divine\\menu.txt')\n",
        "    fbill = open('E:\\Divine\\Bill.txt','w')\n",
        "    file_order = forder.read()\n",
        "    list_order = file_order.split(\"\\n\")\n",
        "    print(file_order)\n",
        "    dict_order = dict()\n",
        "    total = 0\n",
        "    while True :\n",
        "        print(\"1.Order your items\\n2.Delete an ordered item\\n3.Exit ordering\")\n",
        "        order_input = int(input(\"Enter your choice : \"))\n",
        "        if order_input == 1 :\n",
        "            item_order = int(input(\"Enter the item number : \"))\n",
        "            item_quantity = float(input(\"Enter the Quantity : \"))\n",
        "            dict_order[list_order[item_order - 1]] = [item_quantity, menu_dict[item_order][1]*item_quantity]\n",
        "            total += menu_dict[item_order][1]*item_quantity\n",
        "        elif order_input == 2 :\n",
        "            print(\"Enter which item you want to delete : \")\n",
        "            item_order = int(input())\n",
        "            total -= menu_dict[item_order][1]*item_quantity\n",
        "            dict_order[list_order[item_order - 1]] = 0\n",
        "        elif order_input == 3 :\n",
        "            break\n",
        "    fbill.write(f'{\"XYZ BILl\":^60}\\n')\n",
        "    for bill_item, bill_quantity in dict_order.items() : \n",
        "        fbill.write(f'{bill_item:<30} {bill_quantity[0]:<15} {bill_quantity[1]:<15}\\n')\n",
        "    fbill.write(f'\\n{\"Total\":<30} {total:^30}')\n",
        "    forder.close()\n",
        "    fbill.close()"
      ],
      "id": "681b032e",
      "execution_count": 2,
      "outputs": []
    },
    {
      "cell_type": "code",
      "metadata": {
        "id": "622e6d4d"
      },
      "source": [
        "def print_bill() :\n",
        "    fbill = open('E:\\Divine\\Bill.txt', 'r')\n",
        "    fprint_bill = fbill.read()\n",
        "    print(fprint_bill)\n",
        "    quit()"
      ],
      "id": "622e6d4d",
      "execution_count": 3,
      "outputs": []
    },
    {
      "cell_type": "code",
      "metadata": {
        "id": "1754a39c",
        "outputId": "45c14d32-718e-4085-a8ba-9e2fdcd87d00",
        "colab": {
          "base_uri": "https://localhost:8080/"
        }
      },
      "source": [
        "def main() :\n",
        "    while True : \n",
        "        print(\"\\n1.Edit menu\\n2.Order items\\n3.Print Bill\\n4.Cancel Bill\\n\")\n",
        "        menu_input = int(input(\"Enter you choice : \"))\n",
        "        if menu_input == 1 :\n",
        "            edit_menu()\n",
        "        elif menu_input == 2 :\n",
        "            order()\n",
        "        elif menu_input == 3 :\n",
        "            print_bill()\n",
        "        elif menu_input == 4 :\n",
        "            break\n",
        "main()"
      ],
      "id": "1754a39c",
      "execution_count": 4,
      "outputs": [
        {
          "name": "stdout",
          "output_type": "stream",
          "text": [
            "\n",
            "1.Edit menu\n",
            "2.Order items\n",
            "3.Print Bill\n",
            "4.Cancel Bill\n",
            "\n",
            "Enter you choice : 4\n"
          ]
        }
      ]
    },
    {
      "cell_type": "code",
      "metadata": {
        "id": "592e1314"
      },
      "source": [
        ""
      ],
      "id": "592e1314",
      "execution_count": null,
      "outputs": []
    }
  ]
}