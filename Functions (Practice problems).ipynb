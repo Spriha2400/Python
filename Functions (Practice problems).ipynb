{
 "cells": [
  {
   "cell_type": "markdown",
   "id": "ed3d298a",
   "metadata": {},
   "source": [
    "Q1.Write a program using function to find out greatest among three numbers."
   ]
  },
  {
   "cell_type": "code",
   "execution_count": 1,
   "id": "8c967f70",
   "metadata": {},
   "outputs": [
    {
     "name": "stdout",
     "output_type": "stream",
     "text": [
      "Enter the number:10\n",
      "Enter the number:20\n",
      "Enter the number:30\n",
      " c is greatest\n"
     ]
    }
   ],
   "source": [
    "def greatest(a,b,c):\n",
    "    if(a>b &a>c):\n",
    "        print(\"a is greatest\")\n",
    "    elif(b>a & b>c):\n",
    "        print(\"b is greatest\")\n",
    "    else:\n",
    "        print(\" c is greatest\")\n",
    "a=int(input(\"Enter the number:\"))\n",
    "b=int(input(\"Enter the number:\"))\n",
    "c=int(input(\"Enter the number:\"))\n",
    "greatest(a,b,c)"
   ]
  },
  {
   "cell_type": "markdown",
   "id": "27fc8666",
   "metadata": {},
   "source": [
    "Q2.write a program using function to convert celcius to fahranite."
   ]
  },
  {
   "cell_type": "code",
   "execution_count": 2,
   "id": "bd4db6aa",
   "metadata": {},
   "outputs": [
    {
     "name": "stdout",
     "output_type": "stream",
     "text": [
      "Enter the degree in celcius:0\n",
      "After converting degree into fahranite degree is : 32.0\n"
     ]
    }
   ],
   "source": [
    "def convertor(cels):\n",
    "    fahranite=(cels*9/5)+32\n",
    "    return fahranite\n",
    "cels=int(input(\"Enter the degree in celcius:\"))\n",
    "print(\"After converting degree into fahranite degree is :\",convertor(cels))\n",
    "    "
   ]
  },
  {
   "cell_type": "markdown",
   "id": "d360c5c3",
   "metadata": {},
   "source": [
    "Q3.How do you prevent the python print() to print a new line ."
   ]
  },
  {
   "cell_type": "code",
   "execution_count": 5,
   "id": "66150b3c",
   "metadata": {},
   "outputs": [
    {
     "name": "stdout",
     "output_type": "stream",
     "text": [
      "My name is Divya,Nice to meet you!\n"
     ]
    }
   ],
   "source": [
    "print(\"My name is Divya,\",end=\"\")\n",
    "print(\"Nice to meet you!\")"
   ]
  },
  {
   "cell_type": "markdown",
   "id": "d1897785",
   "metadata": {},
   "source": [
    "Q4. Write a python program to print the sum of n natural numbers using function recursion."
   ]
  },
  {
   "cell_type": "code",
   "execution_count": 11,
   "id": "56b0e51e",
   "metadata": {},
   "outputs": [
    {
     "name": "stdout",
     "output_type": "stream",
     "text": [
      "Enter a positive integer:5\n",
      "the sum of n natural numbers are: 15\n"
     ]
    }
   ],
   "source": [
    "def calculate(num):\n",
    "    if num==0 :\n",
    "        return 0\n",
    "    else:\n",
    "        return num+calculate(num-1)\n",
    "num=int(input(\"Enter a positive integer:\"))\n",
    "print(\"the sum of n natural numbers are:\",calculate(num))"
   ]
  },
  {
   "cell_type": "markdown",
   "id": "6c940f4c",
   "metadata": {},
   "source": [
    "Q5.Write a program to print the given * lines using function."
   ]
  },
  {
   "cell_type": "code",
   "execution_count": 12,
   "id": "53c9c5fa",
   "metadata": {},
   "outputs": [
    {
     "name": "stdout",
     "output_type": "stream",
     "text": [
      "Enter the number:3\n",
      "***\n",
      "**\n",
      "*\n"
     ]
    }
   ],
   "source": [
    "def pattern(n):\n",
    "    for i in range(n):\n",
    "        print(\"*\"*(n-i))\n",
    "n=int(input(\"Enter the number:\"))\n",
    "pattern(n)"
   ]
  },
  {
   "cell_type": "markdown",
   "id": "f5bbfa7d",
   "metadata": {},
   "source": [
    "Q6. Write a python program to print multiplication table for a given number using function."
   ]
  },
  {
   "cell_type": "code",
   "execution_count": 9,
   "id": "8132e0a3",
   "metadata": {},
   "outputs": [
    {
     "name": "stdout",
     "output_type": "stream",
     "text": [
      "Enter the number for multiplication table:5\n",
      "5X1=5\n",
      "5X2=10\n",
      "5X3=15\n",
      "5X4=20\n",
      "5X5=25\n",
      "5X6=30\n",
      "5X7=35\n",
      "5X8=40\n",
      "5X9=45\n",
      "5X10=50\n"
     ]
    }
   ],
   "source": [
    "def multiplication(n,i):\n",
    "    if(i>10):\n",
    "        return\n",
    "    else:\n",
    "        print(f\"{num}X{i}={num*i}\")\n",
    "        return multiplication(num,i+1)\n",
    "num=int(input(\"Enter the number for multiplication table:\"))\n",
    "multiplication(num,1)"
   ]
  },
  {
   "cell_type": "markdown",
   "id": "b796bb01",
   "metadata": {},
   "source": [
    "Q7.Write a python function to remove a given word from string and strip it at the same time."
   ]
  },
  {
   "cell_type": "code",
   "execution_count": 7,
   "id": "15df9c2c",
   "metadata": {
    "scrolled": true
   },
   "outputs": [
    {
     "name": "stdout",
     "output_type": "stream",
     "text": [
      "is a good girl\n"
     ]
    }
   ],
   "source": [
    "def remove_strip(string,word):\n",
    "    newstr=string.replace(word,\" \")\n",
    "    return newstr\n",
    "statement=(\"       Divya is a good girl      \")\n",
    "n=remove_strip(statement,\"Divya\")\n",
    "print(n.strip())\n"
   ]
  },
  {
   "cell_type": "markdown",
   "id": "48076611",
   "metadata": {},
   "source": [
    "Q8.Write a python program to convert inches to cm using function."
   ]
  },
  {
   "cell_type": "code",
   "execution_count": 12,
   "id": "4fcb5cac",
   "metadata": {},
   "outputs": [
    {
     "name": "stdout",
     "output_type": "stream",
     "text": [
      "Enter the length in inches:22\n",
      "8.661417322834646\n"
     ]
    }
   ],
   "source": [
    "def convertor(inch):\n",
    "    newinch=inch/2.54\n",
    "    return newinch\n",
    "i=int(input(\"Enter the length in inches:\"))\n",
    "print(convertor(i))"
   ]
  }
 ],
 "metadata": {
  "kernelspec": {
   "display_name": "Python 3",
   "language": "python",
   "name": "python3"
  },
  "language_info": {
   "codemirror_mode": {
    "name": "ipython",
    "version": 3
   },
   "file_extension": ".py",
   "mimetype": "text/x-python",
   "name": "python",
   "nbconvert_exporter": "python",
   "pygments_lexer": "ipython3",
   "version": "3.8.8"
  }
 },
 "nbformat": 4,
 "nbformat_minor": 5
}
