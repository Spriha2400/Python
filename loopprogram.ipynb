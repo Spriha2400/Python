{
 "cells": [
  {
   "cell_type": "markdown",
   "id": "52b0094c",
   "metadata": {},
   "source": [
    "# Loops Program"
   ]
  },
  {
   "cell_type": "code",
   "execution_count": 1,
   "id": "cf11443b",
   "metadata": {},
   "outputs": [
    {
     "name": "stdout",
     "output_type": "stream",
     "text": [
      "x is greater than y\n"
     ]
    }
   ],
   "source": [
    "x,y=12,10\n",
    "if(x<y):\n",
    "    st=\"x is less than y\"\n",
    "elif(x==y):\n",
    "    st=\"x is same as y\"\n",
    "else:\n",
    "    st=\"x is greater than y\"\n",
    "print(st)    "
   ]
  },
  {
   "cell_type": "code",
   "execution_count": 2,
   "id": "a40c2830",
   "metadata": {},
   "outputs": [
    {
     "name": "stdout",
     "output_type": "stream",
     "text": [
      "1\n",
      "2\n",
      "3\n",
      "4\n",
      "5\n"
     ]
    }
   ],
   "source": [
    "lst=[1,2,3,4,5]\n",
    "for i in lst:\n",
    "    print(i)"
   ]
  },
  {
   "cell_type": "code",
   "execution_count": 3,
   "id": "4403dc21",
   "metadata": {},
   "outputs": [
    {
     "name": "stdout",
     "output_type": "stream",
     "text": [
      "5\n",
      "6\n",
      "7\n",
      "8\n",
      "9\n"
     ]
    }
   ],
   "source": [
    "while(i<10):\n",
    "    print(i)\n",
    "    i=i+1"
   ]
  },
  {
   "cell_type": "code",
   "execution_count": 4,
   "id": "fa37730d",
   "metadata": {},
   "outputs": [
    {
     "name": "stdout",
     "output_type": "stream",
     "text": [
      "18 is not less than 12\n",
      "i'm not in if\n"
     ]
    }
   ],
   "source": [
    "i=18\n",
    "if(i>12):\n",
    "    print(\"18 is not less than 12\")\n",
    "print(\"i'm not in if\")    \n"
   ]
  },
  {
   "cell_type": "code",
   "execution_count": 5,
   "id": "761ce3bf",
   "metadata": {},
   "outputs": [
    {
     "name": "stdout",
     "output_type": "stream",
     "text": [
      "149 is less than 150\n",
      "i is in if block\n"
     ]
    }
   ],
   "source": [
    "i=149\n",
    "if(i<=150):\n",
    "    print(\"149 is less than 150\")\n",
    "    print(\"i is in if block\")\n",
    "else:\n",
    "    print(\"149 is greater than 150\")\n",
    "    print(\"i in else block\")"
   ]
  },
  {
   "cell_type": "code",
   "execution_count": 7,
   "id": "bad08f89",
   "metadata": {},
   "outputs": [
    {
     "name": "stdout",
     "output_type": "stream",
     "text": [
      "3\n",
      "5\n",
      "7\n",
      "9\n",
      "11\n",
      "13\n",
      "15\n"
     ]
    }
   ],
   "source": [
    "for i in range(3,17,2):\n",
    "    print(i)"
   ]
  },
  {
   "cell_type": "code",
   "execution_count": 8,
   "id": "2b5295e2",
   "metadata": {},
   "outputs": [
    {
     "name": "stdout",
     "output_type": "stream",
     "text": [
      "0\n",
      "1\n",
      "1\n",
      "2\n",
      "2\n",
      "3\n",
      "3\n",
      "4\n",
      "4\n",
      "5\n",
      "5\n",
      "6\n",
      "6\n",
      "7\n",
      "7\n",
      "8\n",
      "8\n",
      "9\n",
      "9\n",
      "10\n"
     ]
    }
   ],
   "source": [
    "for i in range(10):\n",
    "    print(i)\n",
    "    i=i+1\n",
    "    print(i)"
   ]
  },
  {
   "cell_type": "code",
   "execution_count": 9,
   "id": "9c089562",
   "metadata": {},
   "outputs": [
    {
     "name": "stdout",
     "output_type": "stream",
     "text": [
      "7\n",
      "14\n",
      "21\n",
      "28\n",
      "35\n",
      "42\n",
      "49\n",
      "49\n"
     ]
    }
   ],
   "source": [
    "li=[1,2,3,4,5,6,7]\n",
    "j=0\n",
    "for i in li:\n",
    "    for i in li:\n",
    "        i=i+1\n",
    "        j=j+1\n",
    "    print(j)\n",
    "print(j)    "
   ]
  }
 ],
 "metadata": {
  "kernelspec": {
   "display_name": "Python 3",
   "language": "python",
   "name": "python3"
  },
  "language_info": {
   "codemirror_mode": {
    "name": "ipython",
    "version": 3
   },
   "file_extension": ".py",
   "mimetype": "text/x-python",
   "name": "python",
   "nbconvert_exporter": "python",
   "pygments_lexer": "ipython3",
   "version": "3.8.8"
  }
 },
 "nbformat": 4,
 "nbformat_minor": 5
}
