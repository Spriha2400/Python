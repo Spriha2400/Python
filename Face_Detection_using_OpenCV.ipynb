{
  "nbformat": 4,
  "nbformat_minor": 0,
  "metadata": {
    "colab": {
      "name": "Face Detection using OpenCV",
      "provenance": [],
      "authorship_tag": "ABX9TyOx9quv6bgM5ft+SJcLGR1U",
      "include_colab_link": true
    },
    "kernelspec": {
      "name": "python3",
      "display_name": "Python 3"
    },
    "language_info": {
      "name": "python"
    },
    "accelerator": "GPU"
  },
  "cells": [
    {
      "cell_type": "markdown",
      "metadata": {
        "id": "view-in-github",
        "colab_type": "text"
      },
      "source": [
        "<a href=\"https://colab.research.google.com/github/Spriha2400/Python/blob/main/Face_Detection_using_OpenCV.ipynb\" target=\"_parent\"><img src=\"https://colab.research.google.com/assets/colab-badge.svg\" alt=\"Open In Colab\"/></a>"
      ]
    },
    {
      "cell_type": "code",
      "metadata": {
        "id": "l-DxSLsDsrPK"
      },
      "source": [
        "import cv2"
      ],
      "execution_count": null,
      "outputs": []
    },
    {
      "cell_type": "code",
      "metadata": {
        "id": "MD35IN5N0otO"
      },
      "source": [
        "face_cascade = cv2.CascadeClassifier('face_detector.xml') #load the cascade"
      ],
      "execution_count": null,
      "outputs": []
    },
    {
      "cell_type": "code",
      "metadata": {
        "id": "RlR3xZa4TDLs"
      },
      "source": [
        "img = cv2.imread('Bday.png') #read the input image"
      ],
      "execution_count": null,
      "outputs": []
    },
    {
      "cell_type": "code",
      "metadata": {
        "id": "ig4P-wLy2IIF"
      },
      "source": [
        "# Perform face detection\n",
        "faces =  face_cascade.detectMultiScale (img, 1.1, 4) #detect faces"
      ],
      "execution_count": null,
      "outputs": []
    },
    {
      "cell_type": "code",
      "metadata": {
        "id": "brAzYBxxSumu"
      },
      "source": [
        "# Draw rectangle around faces\n",
        "for (x, y, w, h) in faces:\n",
        "  cv2.rectangle(img, (x,y), (x+w, y+h), (255, 0, 0), 2)"
      ],
      "execution_count": null,
      "outputs": []
    },
    {
      "cell_type": "code",
      "metadata": {
        "colab": {
          "base_uri": "https://localhost:8080/"
        },
        "id": "VdEnitvCUkEg",
        "outputId": "166b0b80-c281-4c7a-9d28-0d15732d5198"
      },
      "source": [
        "# Export the result\n",
        "cv2.imwrite(\"detected_face2.png\", img)\n",
        "print(\"Photo succesfully exported!\")\n"
      ],
      "execution_count": null,
      "outputs": [
        {
          "output_type": "stream",
          "name": "stdout",
          "text": [
            "Photo succesfully exported!\n"
          ]
        }
      ]
    },
    {
      "cell_type": "code",
      "metadata": {
        "id": "qRkqcja4UtKD"
      },
      "source": [
        ""
      ],
      "execution_count": null,
      "outputs": []
    }
  ]
}